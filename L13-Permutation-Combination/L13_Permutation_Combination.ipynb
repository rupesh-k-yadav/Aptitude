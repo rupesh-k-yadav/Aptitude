{
  "nbformat": 4,
  "nbformat_minor": 0,
  "metadata": {
    "colab": {
      "name": "L13-Permutation-Combination.ipynb",
      "provenance": []
    },
    "kernelspec": {
      "name": "python3",
      "display_name": "Python 3"
    },
    "language_info": {
      "name": "python"
    }
  },
  "cells": [
    {
      "cell_type": "code",
      "source": [
        "Q1\n",
        "Value Of Factorial\n",
        "Send Feedback\n",
        "What is the value of 6!?\n",
        "\n",
        "Options\n",
        "120\n",
        "240\n",
        "720 \n",
        "5760\n",
        "Correct Answer\n",
        "Solution Description\n",
        "6!= 6×5×4×3×2×1=720"
      ],
      "metadata": {
        "id": "2tLb5PGOsZCk"
      },
      "execution_count": null,
      "outputs": []
    },
    {
      "cell_type": "code",
      "source": [
        "Q2\n",
        "Find value?\n",
        "Send Feedback\n",
        "What is the value of 10C3 ?\n",
        "\n",
        "\n",
        "Options\n",
        "120 \n",
        "60\n",
        "720\n",
        "None Of These\n",
        "Correct Answer: 120"
      ],
      "metadata": {
        "id": "zPk_Naffsf6x"
      },
      "execution_count": null,
      "outputs": []
    },
    {
      "cell_type": "code",
      "source": [
        "Q3\n",
        "Number Of Ways\n",
        "Send Feedback\n",
        "There are 10 boys and 8 girls in a group. Two boys are to be selected and two girls are to be selected for the play. In how many ways can they be selected?\n",
        "\n",
        "Options\n",
        "18\n",
        "73\n",
        "80\n",
        "1260 \n",
        "Correct Answer\n",
        "Solution Description\n",
        "Number of ways of selecting boys = 10C2 ×8C2 = 45 × 28 = 1260."
      ],
      "metadata": {
        "id": "St-FvvPesgDI"
      },
      "execution_count": null,
      "outputs": []
    },
    {
      "cell_type": "code",
      "source": [
        "Q4\n",
        "Number Of Handshakes\n",
        "Send Feedback\n",
        "10 people at a party shake hands once with everyone else in the room. How many handshakes took place?\n",
        "\n",
        "Options\n",
        "32\n",
        "36\n",
        "35\n",
        "45 \n",
        "Correct Answer\n",
        "Solution Description\n",
        "Total number of handshakes= 10C2= 45. Hence, option (d) is correct."
      ],
      "metadata": {
        "id": "6POo89wHsgK4"
      },
      "execution_count": null,
      "outputs": []
    },
    {
      "cell_type": "code",
      "source": [
        "Q5\n",
        "Select Men?\n",
        "Send Feedback\n",
        "Find the number of ways in which we can select 2 men out of 11 men?\n",
        "\n",
        "Options\n",
        "18\n",
        "55 \n",
        "65\n",
        "80\n",
        "Correct Answer\n",
        "Solution Description\n",
        "Number of ways in which we select 2 men out of 11 men= 11C2= 55."
      ],
      "metadata": {
        "id": "2-c59K6_FfnF"
      },
      "execution_count": null,
      "outputs": []
    },
    {
      "cell_type": "code",
      "source": [
        "Q6\n",
        "Ways To Answer?\n",
        "Send Feedback\n",
        "A student is to answer 10 out of 13 questions. In how many ways he can do this:\n",
        "\n",
        "Options\n",
        "286 \n",
        "296\n",
        "196\n",
        "346\n",
        "Correct Answer\n",
        "Solution Description\n",
        "Required number of ways= 13C10= 13!/(10! X 3!)= (13x12x11)/6= 286"
      ],
      "metadata": {
        "id": "ZXNBHtDVFft-"
      },
      "execution_count": null,
      "outputs": []
    },
    {
      "cell_type": "code",
      "source": [
        "Q7\n",
        "Pick Balls?\n",
        "Send Feedback\n",
        "In how many ways can we pick any number of balls from a pack of three different balls?\n",
        "\n",
        "Options\n",
        "2\n",
        "7\n",
        "8 \n",
        "None of These\n",
        "Correct Answer\n",
        "Solution Description\n",
        "Required number of ways= 2^3=8"
      ],
      "metadata": {
        "id": "jnRM9Us6Ffyh"
      },
      "execution_count": null,
      "outputs": []
    },
    {
      "cell_type": "code",
      "source": [
        "Q8\n",
        "Pick Coins?\n",
        "Send Feedback\n",
        "In how many different ways can we pick any number of coins from five different coins?\n",
        "\n",
        "Options\n",
        "20\n",
        "30\n",
        "32 \n",
        "16\n",
        "Correct Answer\n",
        "Solution Description\n",
        "required number of ways= 2^5=32."
      ],
      "metadata": {
        "id": "xyhr6Pz1Ff8w"
      },
      "execution_count": null,
      "outputs": []
    },
    {
      "cell_type": "code",
      "source": [
        "Q9\n",
        "Captain And VC\n",
        "Send Feedback\n",
        "If captain and vice-captain are in the team then in how many ways can we select a team of 10 players from a group of 15 players?\n",
        "\n",
        "Options\n",
        "13C10\n",
        "13C8 \n",
        "15C8\n",
        "15C10\n",
        "Correct Answer\n",
        "Solution Description\n",
        "If captain and vice-captain are already in the team then we need to select 8 players out of 13 players.\n",
        "\n",
        "Required number of ways= 13C8\n",
        "\n",
        "Hence, option (b) is correct."
      ],
      "metadata": {
        "id": "rQR-PjH9FgAc"
      },
      "execution_count": null,
      "outputs": []
    },
    {
      "cell_type": "code",
      "source": [
        "Q10\n",
        "Committee\n",
        "Send Feedback\n",
        "A committee of five members is to be formed out of 3 trainees, 4 professors and 6 research associates. \n",
        "In how many different ways this can be done if the committee should have all the 4 professors and 1 research associate or all 3 trainee and 2 professors?\n",
        "\n",
        "Options\n",
        "15\n",
        "18\n",
        "25\n",
        "12 \n",
        "Correct Answer\n",
        "Solution Description\n",
        "Total number of ways to select 4 professors and 1 research associate= 4C4x6C1=1×6=6.\n",
        "\n",
        "Total number of ways to select 3 trainee and 2 professors= 3C3x4C2=6\n",
        "Required answer= 6+ 6= 12."
      ],
      "metadata": {
        "id": "iA7HZJOzFgEK"
      },
      "execution_count": null,
      "outputs": []
    },
    {
      "cell_type": "code",
      "source": [
        "Q11\n",
        "Number Of Solutions\n",
        "Send Feedback\n",
        "Find the number of non-negative integer solutions of x+ y+ z= 10?\n",
        "\n",
        "Options\n",
        "12\n",
        "66 \n",
        "81\n",
        "None Of These\n",
        "Correct Answer\n",
        "Solution Description\n",
        "Number of non-negative integer solutions= (10+3-1)C(3-1)= 12C2= 66. Hence, option b is correct."
      ],
      "metadata": {
        "id": "iILbbIUeFgHj"
      },
      "execution_count": null,
      "outputs": []
    },
    {
      "cell_type": "code",
      "source": [
        "Q12\n",
        "Number Of Positive Solutions\n",
        "Send Feedback\n",
        "Find the number of positive integer solutions of x+ y+ z= 10?\n",
        "\n",
        "Options\n",
        "12\n",
        "66\n",
        "36 \n",
        "None Of These\n",
        "Correct Answer\n",
        "Solution Description\n",
        "Number of positive integer solutions= (7+3-1)C(3-1)= 9C2= 36. Hence, option c is correct."
      ],
      "metadata": {
        "id": "Xi5cDHQxFgK7"
      },
      "execution_count": null,
      "outputs": []
    },
    {
      "cell_type": "code",
      "source": [
        "Q13\n",
        "Ways To Arrange\n",
        "Send Feedback\n",
        "In how many different ways can the letter of the word ‘ARMOUR’ be arranged?\n",
        "\n",
        "Options\n",
        "360 ----\n",
        "300\n",
        "640\n",
        "350\n",
        "Correct Answer: 360\n",
        "Solution Description\n",
        " There are 6 letters in ‘ARMOUR’.   And two R's are  same. Hence this can be arranged in 6!/2 ways or 720 ways."
      ],
      "metadata": {
        "id": "5DiCiLvaFgOm"
      },
      "execution_count": null,
      "outputs": []
    },
    {
      "cell_type": "code",
      "source": [
        "Q14\n",
        "Arrange Words\n",
        "Send Feedback\n",
        "In how many different ways can the letter of the word ‘ARROW’ be arranged?\n",
        "\n",
        "Options\n",
        "60 \n",
        "40\n",
        "50\n",
        "None Of These\n",
        "Correct Answer\n",
        "Solution Description\n",
        "Required number of letters= 5!/2!=60\n",
        "Hence, option (a) is correct."
      ],
      "metadata": {
        "id": "CrZ45YNcFgR9"
      },
      "execution_count": null,
      "outputs": []
    },
    {
      "cell_type": "code",
      "source": [
        "Q15\n",
        "Arrange Prizes\n",
        "Send Feedback\n",
        "How many ways can 4 prizes be given away to 3 boys, if each boy is eligible for all the prizes?\n",
        "\n",
        "Options\n",
        "12\n",
        "64\n",
        "81 \n",
        "None Of These\n",
        "Correct Answer\n",
        "Solution Description\n",
        "Any one prize can be given to any one of the 3 boys and hence there are 3 ways of distributing each prize.\n",
        "Hence, the 4 prizes can be distributed in 3^4 = 81 ways."
      ],
      "metadata": {
        "id": "j9DkWK31Fgaj"
      },
      "execution_count": null,
      "outputs": []
    },
    {
      "cell_type": "code",
      "source": [
        "Q16\n",
        "Arrange Rings\n",
        "Send Feedback\n",
        "Find out the number of ways in which 6 rings of different types can be worn in 3 fingers?\n",
        "\n",
        "Options\n",
        "120\n",
        "720\n",
        "729 \n",
        "125\n",
        "Correct Answer\n",
        "Solution Description\n",
        "Required number of ways= 3^6=729"
      ],
      "metadata": {
        "id": "zKxw-GOHFgd_"
      },
      "execution_count": null,
      "outputs": []
    },
    {
      "cell_type": "code",
      "source": [
        "Q17\n",
        "Arrange Letters\n",
        "Send Feedback\n",
        "In how many ways can the letters of the word HIPPOPOTAMUS be arranged?\n",
        "\n",
        "Options\n",
        "12!\n",
        "12!/2!\n",
        "12!/3!\n",
        "12!/(2! x 3!) \n",
        "Correct Answer\n",
        "Solution Description\n",
        "The words can be arranged in 12! Ways. There are 3 P’s and 2 O’s.\n",
        " So, number of arrangements = 12!/(2! x 3!)"
      ],
      "metadata": {
        "id": "0AH6ZdtPFghm"
      },
      "execution_count": null,
      "outputs": []
    },
    {
      "cell_type": "code",
      "source": [
        "Q18\n",
        "Letter Arranged\n",
        "Send Feedback\n",
        "In how many different ways can the letter of the word SOFTWARE be arranged in such a way that the vowels always come together?\n",
        "\n",
        "Options\n",
        "13440\n",
        "4320 \n",
        "1440\n",
        "720\n",
        "Correct Answer\n",
        "Solution Description\n",
        "There are total 3 vowels (O, A, E) in SOFTWARE.\n",
        "These three vowels can be considered as a single letter. Now we have 6 letter which can be arranged in 6!\n",
        "Different ways and the 3 vowels can be arranged in 3! Ways.\n",
        "Hence the required number of combinations= 3!×6!= 4320."
      ],
      "metadata": {
        "id": "9pliZRRXFglQ"
      },
      "execution_count": null,
      "outputs": []
    },
    {
      "cell_type": "code",
      "source": [
        "Q19\n",
        "Form Integers\n",
        "Send Feedback\n",
        "How many three digit integers can be formed using the digits 0, 1, 2, 5, 8 and 9 (repetition of digits not allowed).\n",
        "\n",
        "Options\n",
        "60\n",
        "100 \n",
        "160\n",
        "720\n",
        "Correct Answer: 100\n",
        "Solution Description\n",
        "Forming numbers without including zero\n",
        "Total numbers formed = 5 × 4 × 3 = 60\n",
        "Forming numbers including zero\n",
        "Total numbers formed = 5 × 5 × 4 = 100\n",
        "Required number of integers = 100 + 60 = 160"
      ],
      "metadata": {
        "id": "NeQZbp9FFgou"
      },
      "execution_count": null,
      "outputs": []
    },
    {
      "cell_type": "code",
      "source": [
        "Q20\n",
        "Number Of Integers\n",
        "Send Feedback\n",
        "What will be the number of integers formed in the previous question if repetition of digits is allowed?\n",
        "\n",
        "Options\n",
        "305\n",
        "180 \n",
        "125\n",
        "None Of These\n",
        "Correct Answer: 180\n",
        "Solution Description\n"
      ],
      "metadata": {
        "id": "ATkcO7jqFgsS"
      },
      "execution_count": null,
      "outputs": []
    },
    {
      "cell_type": "code",
      "source": [
        "Q21\n",
        "Person Sit\n",
        "Send Feedback\n",
        "10 persons we invited to a party. In how many ways can they be seated in a round table such that two particular persons sit on either side of the host?\n",
        "\n",
        "Options\n",
        "9!x2\n",
        "9!\n",
        "8!x2 \n",
        "8!\n",
        "Correct Answer\n",
        "Solution Description\n",
        "After fixing the places of three persons (1 host + 2 persons) and treating them as 1 unit we can arrange the total (10 - 2 + 1) = 9 units in 8! ways. \n",
        "Again these particular persons can sit on either side of the host in 2 ways. Hence the total number of ways is 8! × 2."
      ],
      "metadata": {
        "id": "cbEBqcReFgvh"
      },
      "execution_count": null,
      "outputs": []
    },
    {
      "cell_type": "code",
      "source": [
        "Q22\n",
        "Different Ways To Sit\n",
        "Send Feedback\n",
        "If 7 people are going to sitting at a round table, but Kriti will not sit next to Heena, how many different ways can the group of 6 sit?\n",
        "\n",
        "Options\n",
        "240\n",
        "480 \n",
        "720\n",
        "None Of These\n",
        "Correct Answer\n",
        "Solution Description\n",
        " Total circular permutations = (7-1)! = 6! = 720. \n",
        "Ways in which Kriti and Heena sit together = 2! × 5! = 2 × 120 = 240 \n",
        "Required ways = 720 - 240 = 480. "
      ],
      "metadata": {
        "id": "ZwFBNQXyaAZ6"
      },
      "execution_count": null,
      "outputs": []
    }
  ]
}