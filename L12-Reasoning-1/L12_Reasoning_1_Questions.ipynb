{
  "nbformat": 4,
  "nbformat_minor": 0,
  "metadata": {
    "colab": {
      "name": "L12-Reasoning-1-Questions.ipynb",
      "provenance": []
    },
    "kernelspec": {
      "name": "python3",
      "display_name": "Python 3"
    },
    "language_info": {
      "name": "python"
    }
  },
  "cells": [
    {
      "cell_type": "code",
      "source": [
        "Q1\n",
        "Find next sequence?\n",
        "Send Feedback\n",
        "JAF, JEF, JIF, JOF, ?\n",
        "\n",
        "Options\n",
        "JAG\n",
        "JET\n",
        "JUF \n",
        "JIT\n",
        "Correct Answer\n",
        "Solution Description\n",
        "#### The middle letters which are vowels have an increasing trend of A, E, I, O, U and \n",
        "#remaining letters have been retained. Hence the answer would be JUF. Option (c) is correct."
      ],
      "metadata": {
        "id": "2tLb5PGOsZCk"
      },
      "execution_count": null,
      "outputs": []
    },
    {
      "cell_type": "code",
      "source": [
        "Q2\n",
        "Find next alphabets?\n",
        "Send Feedback\n",
        "BAZ, DBY, FCX, ?\n",
        "\n",
        "Options\n",
        "FXW\n",
        "EFX\n",
        "FEY\n",
        "HDW \n",
        "Correct Answer\n",
        "Solution Description\n",
        "The 1st letter of the world increasing by +2, 2nd letter increasing by +1 and the 3rd letter is decreasing by -1.\n",
        "\n",
        "Hence, the missing letter HDW. Option (d) is correct."
      ],
      "metadata": {
        "id": "zPk_Naffsf6x"
      },
      "execution_count": null,
      "outputs": []
    },
    {
      "cell_type": "code",
      "source": [
        "Q3\n",
        "Find next Number?\n",
        "Send Feedback\n",
        "5, 12, 23, 50, 141, ?\n",
        "\n",
        "Options\n",
        "488 \n",
        "473\n",
        "425\n",
        "392\n",
        "Correct Answer\n",
        "Solution Description\n",
        "4=41, 16=42, 64=43 \n",
        "\n",
        "Hence, the next term =141+91+44= 141 +91 +256 =488.\n",
        "\n",
        "Hence, option (a) is correct."
      ],
      "metadata": {
        "id": "St-FvvPesgDI"
      },
      "execution_count": null,
      "outputs": []
    },
    {
      "cell_type": "code",
      "source": [
        "Q4\n",
        "Next Number?\n",
        "Send Feedback\n",
        "13, 16, 22, 31, 43, ?\n",
        "\n",
        "Options\n",
        "60\n",
        "58 \n",
        "55\n",
        "56\n",
        "Correct Answer\n",
        "Solution Description\n",
        "Pattern of the series is +3, +6, +9, +12, …\n",
        "\n",
        "Hence, the missing term= 43+ 15= 58. Hence, option (b) is correct."
      ],
      "metadata": {
        "id": "6POo89wHsgK4"
      },
      "execution_count": null,
      "outputs": []
    },
    {
      "cell_type": "code",
      "source": [
        "Q5\n",
        "Next Number Again?\n",
        "Send Feedback\n",
        "50, 90, 150, 240, 375, ?\n",
        "\n",
        "Options\n",
        "570\n",
        "577.5 \n",
        "580\n",
        "None Of These\n",
        "Correct Answer\n",
        "Solution Description\n",
        "90 = 50 +40,        \n",
        "              \n",
        "150 = 90 +60,          \n",
        "   \n",
        "240 = 150 +90\n",
        "\n",
        "375 = 240 +135.\n",
        "\n",
        "We can see 60 = 40 ×1.5,          \n",
        "90 = 60 ×1.5,                       135 = 90 ×1.5,  \n",
        "\n",
        "Hence, the required term = 375 + 135 × 1.5  = 577.5\n",
        "\n",
        "Hence, option (b) is correct."
      ],
      "metadata": {
        "id": "2-c59K6_FfnF"
      },
      "execution_count": null,
      "outputs": []
    },
    {
      "cell_type": "code",
      "source": [
        "Q6\n",
        "Find number?\n",
        "Send Feedback\n",
        "4, 6, 16, 54, 224,?\n",
        "\n",
        "Options\n",
        "1125\n",
        "1130 \n",
        "1135\n",
        "1140\n",
        "Correct Answer\n",
        "Solution Description\n",
        "6 = 4 ×1 +2,      \n",
        "\n",
        "16 = 6 ×2 +4,\n",
        "\n",
        "54 = 16 ×3 +6,         \n",
        "\n",
        "224 = 54 ×4 +8,\n",
        "\n",
        "? = 224 × 5 +10 = 1130.\n",
        "\n",
        "Hence, option (b) is correct."
      ],
      "metadata": {
        "id": "ZXNBHtDVFft-"
      },
      "execution_count": null,
      "outputs": []
    },
    {
      "cell_type": "code",
      "source": [
        "Q7\n",
        "Find missing number?\n",
        "Send Feedback\n",
        "2, 10, 30, 68, 130, ..................?\n",
        "\n",
        "Options\n",
        "225\n",
        "224\n",
        "223\n",
        "222 \n",
        "Correct Answer\n",
        "Solution Description\n",
        "Solution:\n",
        "(1)^3 +1 =2,  \n",
        "\n",
        "(2)^3 +2 =10,      \n",
        "  \n",
        "(3)^3 +3 =30,       \n",
        "\n",
        "(4)^3 +4 =68\n",
        "\n",
        "(5)^3 +5 =130,    \n",
        "                                                 \n",
        "? = (6)^3 +6  =222.\n",
        "\n",
        "Hence, option (d) is correct."
      ],
      "metadata": {
        "id": "jnRM9Us6Ffyh"
      },
      "execution_count": null,
      "outputs": []
    },
    {
      "cell_type": "code",
      "source": [
        "Q8\n",
        "Syllogism-1\n",
        "Send Feedback\n",
        "Statements: All A are B. All B are C. All C are D\n",
        "Conclusion:\n",
        "I. All B are D.\n",
        "II. All C are A.\n",
        "III. All A are D.\n",
        "IV. All D are B\n",
        "Options\n",
        "Only I and II follow\n",
        "Only I and III follow \n",
        "Only II and III follow\n",
        "All follow\n",
        "Correct Answer: only I and III follows\n"
      ],
      "metadata": {
        "id": "xyhr6Pz1Ff8w"
      },
      "execution_count": null,
      "outputs": []
    },
    {
      "cell_type": "code",
      "source": [
        "Q9\n",
        "Predict The Correct Thing?\n",
        "Send Feedback\n",
        "Statements: Some eyes are ears. Some ears are lungs. All lungs are hands\n",
        "Conclusion:\n",
        "I. Some hands are eyes.\n",
        "II. Some hands are ears\n",
        "III. Some lungs are eyes\n",
        "IV. No hand is eye\n",
        "\n",
        "Options\n",
        "None follow\n",
        "Only IV follows\n",
        "Only II follows \n",
        "Only III follows\n",
        "Correct Answer: only II follows"
      ],
      "metadata": {
        "id": "rQR-PjH9FgAc"
      },
      "execution_count": null,
      "outputs": []
    },
    {
      "cell_type": "code",
      "source": [
        "Q10\n",
        "Select The Correct Statement?\n",
        "Send Feedback\n",
        "Statements: All liquids are solids. Some solids are gases. All gases are clouds.\n",
        "Conclusion:\n",
        "I. Some clouds are solids.\n",
        "II. Some clouds are liquids\n",
        "III. Some gases are liquids.\n",
        "IV. Some solids are clouds\n",
        "\n",
        "Options\n",
        "None follows\n",
        "Only I and II follow\n",
        "Only III and IV follow\n",
        "Only I and IV follow \n",
        "Correct Answer: Only I and IV follow"
      ],
      "metadata": {
        "id": "iA7HZJOzFgEK"
      },
      "execution_count": null,
      "outputs": []
    },
    {
      "cell_type": "code",
      "source": [
        "Q11\n",
        "Predict About Statements?\n",
        "Send Feedback\n",
        "Statements: All A are B. No B is C. Some D are C.\n",
        "Conclusion:\n",
        "I. Some D are A.\n",
        "II. Some D are B\n",
        "III. Some A are C.\n",
        "\n",
        "Options\n",
        "Only I follows.\n",
        "Only III follows.\n",
        "None of these. \n",
        "Only II and III follow.\n",
        "Correct Answer: None of these"
      ],
      "metadata": {
        "id": "iILbbIUeFgHj"
      },
      "execution_count": null,
      "outputs": []
    },
    {
      "cell_type": "code",
      "source": [
        "Q12\n",
        "Get The Conclusion?\n",
        "Send Feedback\n",
        "Statements: Some snaps are whatsapp. All Hikes are whatsapp. All whatsapp are facebook.\n",
        "Conclusion:\n",
        "I. Some facebook are snaps.\n",
        "II. All hikes are facebook\n",
        "III. Some snaps are hikes.\n",
        "IV. Some snaps are facebook\n",
        "\n",
        "Options\n",
        "All follow\n",
        "Only I, II and III follow\n",
        "Only I, II and IV follow. \n",
        "Only III and IV follow\n",
        "Correct Answer: Only I, II and IV follow."
      ],
      "metadata": {
        "id": "Xi5cDHQxFgK7"
      },
      "execution_count": null,
      "outputs": []
    },
    {
      "cell_type": "code",
      "source": [
        "Q13\n",
        "Statements And Conclusion?\n",
        "Send Feedback\n",
        "Statements: Some cows are deer. No deer is dog. Some dogs are fox.\n",
        "Conclusions:\n",
        "I. Some cows are fox.\n",
        "II. Some foxes are deer.\n",
        "\n",
        "Options\n",
        "None follows \n",
        "Only I follows\n",
        "Either I or II follows\n",
        "Only II follows\n",
        "Correct Answer: None Follows"
      ],
      "metadata": {
        "id": "5DiCiLvaFgOm"
      },
      "execution_count": null,
      "outputs": []
    },
    {
      "cell_type": "code",
      "source": [
        "Q14\n",
        "Select The Correct Option?\n",
        "Send Feedback\n",
        "Some points are not scales. No scale is circle. Some circles are triangles.\n",
        "Conclusions:\n",
        "I. No point is circle.\n",
        "II. No triangle is point.\n",
        "\n",
        "Options\n",
        "None follows \n",
        "Only I follows\n",
        "Either I or II follows\n",
        "Only II follows\n",
        "Correct Answer: None Follows"
      ],
      "metadata": {
        "id": "CrZ45YNcFgR9"
      },
      "execution_count": null,
      "outputs": []
    },
    {
      "cell_type": "code",
      "source": [
        "Q15\n",
        "Leaves, Branches And Roots?\n",
        "Send Feedback\n",
        "Some leaves are fruits. All branches are fruits. Some roots are branches Conclusions:\n",
        "I. Some roots are fruits.\n",
        "II. Some branches are leaves.\n",
        "III. No leaf is branch.\n",
        "IV. Some leaves are roots.\n",
        "\n",
        "Options\n",
        "Either II or III and I follow \n",
        "Only I follows\n",
        "Only either II or III follows\n",
        "Only I and III follow\n",
        "Correct Answer: Either II or III and I follow"
      ],
      "metadata": {
        "id": "j9DkWK31Fgaj"
      },
      "execution_count": null,
      "outputs": []
    },
    {
      "cell_type": "code",
      "source": [
        "Q16\n",
        "Decode it?\n",
        "Send Feedback\n",
        "In a certain code ‘SUDHIR’ is written as ‘HIRSUD’\n",
        "How would ‘VISHES’ be written in that code?\n",
        "\n",
        "Options\n",
        "VISHSE\n",
        "HESVIS \n",
        "VISEHS\n",
        "HESIVS\n",
        "Correct Answer: HESVIS"
      ],
      "metadata": {
        "id": "zKxw-GOHFgd_"
      },
      "execution_count": null,
      "outputs": []
    },
    {
      "cell_type": "code",
      "source": [
        "Q17\n",
        "Decode again?\n",
        "Send Feedback\n",
        "In a certain code ‘PURPOSE’ is written as ‘UPPRSOE’. How would ‘SUDHI’ is written in that code.\n",
        "\n",
        "Options\n",
        "USHDI \n",
        "SUDIH\n",
        "USDIH\n",
        "None Of These\n",
        "Correct Answer: USHDI"
      ],
      "metadata": {
        "id": "0AH6ZdtPFghm"
      },
      "execution_count": null,
      "outputs": []
    },
    {
      "cell_type": "code",
      "source": [
        "Q18\n",
        "Coding Decoding\n",
        "Send Feedback\n",
        "In a certain code ‘SUDHIR’ is written as ‘QTBGGQ’. How would ‘ARUN’ be written in that code?\n",
        "\n",
        "Options\n",
        "QYSM\n",
        "PQRS\n",
        "YQSM \n",
        "None Of These\n",
        "Correct Answer: YQSM"
      ],
      "metadata": {
        "id": "9pliZRRXFglQ"
      },
      "execution_count": null,
      "outputs": []
    },
    {
      "cell_type": "code",
      "source": [
        "Q19\n",
        "Find pattern?\n",
        "Send Feedback\n",
        "If AMAN is written as ‘BNBO’ in a certain code then ARUN is written as\n",
        "Options\n",
        "BPTM\n",
        "BSVM\n",
        "BVSM\n",
        "None Of These \n",
        "Correct Answer: None of these"
      ],
      "metadata": {
        "id": "NeQZbp9FFgou"
      },
      "execution_count": null,
      "outputs": []
    },
    {
      "cell_type": "code",
      "source": [
        "Q20\n",
        "Find code?\n",
        "Send Feedback\n",
        "If ‘AMAN’ is written as ‘CLCM’ in a certain code than in the same code ‘ARUN’ is written as:\n",
        "\n",
        "Options\n",
        "CQWO\n",
        "CQVM\n",
        "CPWM\n",
        "CQWM \n",
        "Correct Answer: CQWM"
      ],
      "metadata": {
        "id": "ATkcO7jqFgsS"
      },
      "execution_count": null,
      "outputs": []
    },
    {
      "cell_type": "code",
      "source": [
        "Q21\n",
        "Decode the number?\n",
        "Send Feedback\n",
        "In a certain code if ‘1000’ is written as ‘1728’ and 125 is written as ‘343’. In the same code ‘512’ is written as:\n",
        "Options\n",
        "729\n",
        "343\n",
        "216\n",
        "1000 \n",
        "Correct Answer: 1000"
      ],
      "metadata": {
        "id": "cbEBqcReFgvh"
      },
      "execution_count": null,
      "outputs": []
    }
  ]
}