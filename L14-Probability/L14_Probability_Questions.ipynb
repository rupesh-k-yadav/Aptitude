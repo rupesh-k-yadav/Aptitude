{
  "nbformat": 4,
  "nbformat_minor": 0,
  "metadata": {
    "colab": {
      "name": "L14-Probability_Questions.ipynb",
      "provenance": []
    },
    "kernelspec": {
      "name": "python3",
      "display_name": "Python 3"
    },
    "language_info": {
      "name": "python"
    }
  },
  "cells": [
    {
      "cell_type": "code",
      "source": [
        "Q1\n",
        "Probability Of Head\n",
        "Send Feedback\n",
        "Three coins are tossed, find the probability that two heads are obtained.\n",
        "\n",
        "Options\n",
        "1/4\n",
        "3/8 \n",
        "1/2\n",
        "5/8\n",
        "Correct Answer\n",
        "Solution Description\n",
        "Total outcomes (S) = 2^3 = 8\t\t\n",
        "Favorable outcomes (E) = 3C2 = 3 (HHT, HTH, THH)\n",
        "\n",
        "P (E) = E/S= 3/8\n",
        "Hence, option (b) is correct."
      ],
      "metadata": {
        "id": "2tLb5PGOsZCk"
      },
      "execution_count": null,
      "outputs": []
    },
    {
      "cell_type": "code",
      "source": [
        "Q2\n",
        "Probability Of Tail\n",
        "Send Feedback\n",
        "Three unbiased coins are tossed. What is the probability of getting at most two tails?\n",
        "\n",
        "Options\n",
        "5/8\n",
        "3/4\n",
        "7/8 \n",
        "None Of These\n",
        "Correct Answer\n",
        "Solution Description\n",
        "Here S = {TTT, TTH, THT, HTT, THH, HTH, HHT, HHH}\n",
        "Let E = event of getting at most two heads.\n",
        "Then E = {TTT, TTH, THT, HTT, THH, HTH, HHT}.\n",
        "Required probability = 7/8"
      ],
      "metadata": {
        "id": "zPk_Naffsf6x"
      },
      "execution_count": null,
      "outputs": []
    },
    {
      "cell_type": "code",
      "source": [
        "Q3\n",
        "Die And Prime Number\n",
        "Send Feedback\n",
        "A die is rolled, find the probability that a prime number is obtained\n",
        "\n",
        "Options\n",
        "1/2 \n",
        "1/3\n",
        "1/4\n",
        "2/3\n",
        "Correct Answer\n",
        "Solution Description\n",
        " S = {1, 2, 3, 4, 5, 6}\tE = {2, 3, 5}\n",
        "P (E) = 1/2\n",
        "Hence, option (a) is correct."
      ],
      "metadata": {
        "id": "St-FvvPesgDI"
      },
      "execution_count": null,
      "outputs": []
    },
    {
      "cell_type": "code",
      "source": [
        "Q4\n",
        "Probability Of Sum\n",
        "Send Feedback\n",
        "Two dice are rolled, find the probability that the sum is 4\n",
        "\n",
        "Options\n",
        "1/6\n",
        "1/9\n",
        "1/12 \n",
        "1/18\n",
        "Correct Answer\n",
        "Solution Description\n",
        "S = 6 × 6 = 36\n",
        "E = [{(1,3), (2,2), (3,1)} \n",
        "P (E) = 3/36 = 1/12\n",
        "Hence, option (c) is correct."
      ],
      "metadata": {
        "id": "6POo89wHsgK4"
      },
      "execution_count": null,
      "outputs": []
    },
    {
      "cell_type": "code",
      "source": [
        "Q5\n",
        "Probability Of Even\n",
        "Send Feedback\n",
        "Two dice are thrown simultaneously. What is the probability of getting two numbers whose product is even?\n",
        "\n",
        "Options\n",
        "5/8\n",
        "3/4 \n",
        "7/8\n",
        "None Of These\n",
        "Correct Answer\n",
        "Solution Description\n",
        "In a simultaneous throw of two dice, we have n(S) = (6 x 6) = 36.\n",
        "Then, E\t= {(1, 2), (1, 4), (1, 6), (2, 1), (2, 2), (2, 3), (2, 4), (2, 5), (2, 6),\n",
        "           (3, 2), (3, 4),(3, 6), (4, 1), (4, 2), (4, 3), (4, 4), (4, 5), (4, 6), (5, 2), (5, 4), (5, 6), (6, 1), (6, 2), (6, 3), (6, 4), (6, 5), (6, 6)}\n",
        "n(E) = 27\n",
        "Required probability = 27/36 = ¾\n",
        "Hence, option (b) is correct."
      ],
      "metadata": {
        "id": "2-c59K6_FfnF"
      },
      "execution_count": null,
      "outputs": []
    },
    {
      "cell_type": "code",
      "source": [
        "Q6\n",
        "Probability Of King\n",
        "Send Feedback\n",
        "A card is drawn at random from a deck of cards. Find the probability of getting a king or a spade.\n",
        "\n",
        "Options\n",
        "1/13\n",
        "17/52\n",
        "3/13\n",
        "4/13 \n",
        "Correct Answer\n",
        "Solution Description\n",
        "Number of kings = 4 \n",
        "Number of spades = 13\n",
        "There is 1 card of king in spade. So, required number of possibilities = 13+4-1 = 16\n",
        "Probability = 16/52 = 4/13 \n",
        "Hence, option (d) is correct."
      ],
      "metadata": {
        "id": "ZXNBHtDVFft-"
      },
      "execution_count": null,
      "outputs": []
    },
    {
      "cell_type": "code",
      "source": [
        "Q7\n",
        "Probability Of Cards\n",
        "Send Feedback\n",
        "Three cards are drawn from a deck of cards. Find the probability such that one of them is a spade, one is a diamond and one is a heart.\n",
        "Options\n",
        "3/13\n",
        "1/(13^3)\n",
        "(13^3*(3!)/(52*51*50)) \n",
        "10/(13^3)\n",
        "Correct Answer: option c \n",
        "Solution Description\n"
      ],
      "metadata": {
        "id": "jnRM9Us6Ffyh"
      },
      "execution_count": null,
      "outputs": []
    },
    {
      "cell_type": "code",
      "source": [
        "Q8\n",
        "Probability Of Bags\n",
        "Send Feedback\n",
        "A bag contains 3 white, 4 red and 5 blue balls. Two balls are drawn at random from the bag. The probability that both of them are blue is_______\n",
        "\n",
        "Options\n",
        "6/21\n",
        "4/21\n",
        "1/7\n",
        "5/33 \n",
        "Correct Answer\n",
        "Solution Description\n",
        " Let S be the sample space.\n",
        "Then, n(S) = number of ways of drawing 2 balls out of 12\n",
        "= 12C2 = 66\n",
        "Let E = event of getting both the balls blue.\n",
        "n(E) = 5C2 = 10\n",
        "Probability = 10/66 = 5/33. Hence, option (d) is correct."
      ],
      "metadata": {
        "id": "xyhr6Pz1Ff8w"
      },
      "execution_count": null,
      "outputs": []
    },
    {
      "cell_type": "code",
      "source": [
        "Q9\n",
        "Probability Of Balls\n",
        "Send Feedback\n",
        "A bag contains 5 black and 6 white balls. James takes a ball out and places it in the bag again. \n",
        "He again takes out a ball. What is the probability that both the balls are white?\n",
        "\n",
        "Options\n",
        "25/121\n",
        "36/121 \n",
        "3/11\n",
        "49/121\n",
        "Correct Answer\n",
        "Solution Description\n",
        "Required probability = (6/11) x (6/11) = 36/121\n",
        "Hence, option (b) is correct."
      ],
      "metadata": {
        "id": "rQR-PjH9FgAc"
      },
      "execution_count": null,
      "outputs": []
    },
    {
      "cell_type": "code",
      "source": [
        "Q10\n",
        "Probability Of Even\n",
        "Send Feedback\n",
        "A bag contains 21 toys numbered 1 to 21. A toy is drawn and then another toy is drawn without replacement. \n",
        "Find the probability that both toys will show even numbers\n",
        "\n",
        "Options\n",
        "3/14 \n",
        "3/7\n",
        "4/7\n",
        "5/14\n",
        "Correct Answer\n",
        "Solution Description\n",
        "The probability that first toy shows the even number = 10/21\n",
        "Since, the toy is not replaced there are now 9 even numbered toys and total 20 toys left.\n",
        "Hence, probability that second toy shows the even number = 9/20\n",
        "Required probability = (10/21) × (9/20) = 3/14\n",
        "Hence, option (a) is correct."
      ],
      "metadata": {
        "id": "iA7HZJOzFgEK"
      },
      "execution_count": null,
      "outputs": []
    },
    {
      "cell_type": "code",
      "source": [
        "Q11\n",
        "Probability Of Events\n",
        "Send Feedback\n",
        "The odds against an event are 3:4 and the odds in favour of another independent event are 3:5. \n",
        "Find the probability that at least one of the two events will occur.\n",
        "\n",
        "Options\n",
        "5/7\n",
        "11/14\n",
        "6/7\n",
        "41/56 \n",
        "Correct Answer : 41/56\n",
        "Solution Description"
      ],
      "metadata": {
        "id": "iILbbIUeFgHj"
      },
      "execution_count": null,
      "outputs": []
    },
    {
      "cell_type": "code",
      "source": [
        "Q12\n",
        "Probability Of Ticket\n",
        "Send Feedback\n",
        "In a charity show tickets numbered consecutively from 101 through 350 are placed in a box. \n",
        "What is the probability that a ticket selected at random (blindly) will have a number with a hundredth digit of 2?\n",
        "\n",
        "Options\n",
        "0.30\n",
        "0.35\n",
        "0.40 \n",
        "0.45\n",
        "Correct Answer\n",
        "Solution Description\n",
        "250 numbers between 101 and 350 i.e. n(S)=250\n",
        "n(E)=100th digits of 2 =299−199=100\n",
        "P(E) = 100/250 = 0.4\n",
        "Hence, option (c) is correct."
      ],
      "metadata": {
        "id": "Xi5cDHQxFgK7"
      },
      "execution_count": null,
      "outputs": []
    },
    {
      "cell_type": "code",
      "source": [
        "Q13\n",
        "Probability Of Students\n",
        "Send Feedback\n",
        "The probability of success of three students A, B and C in the one examination are 1/3, 1/2 and 1/4 respectively. \n",
        "Find the probability of all three students failing in the examination.\n",
        "\n",
        "Options\n",
        "0.25 \n",
        "0.35\n",
        "0.45\n",
        "0.55\n",
        "Correct Answer\n",
        "Solution Description\n",
        "Required probability = [1 – 1/3] × [1 – 1/2] × [1 – 1/4] = (2/3) * (1/2)*(3/4) = 1/4 = 0.25. Hence, option (a) is correct."
      ],
      "metadata": {
        "id": "5DiCiLvaFgOm"
      },
      "execution_count": null,
      "outputs": []
    }
  ]
}