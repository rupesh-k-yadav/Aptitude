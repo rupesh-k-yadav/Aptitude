{
  "nbformat": 4,
  "nbformat_minor": 0,
  "metadata": {
    "colab": {
      "name": "L5-Ratio-Proportion-Variations-1_Assignment-Questions.ipynb",
      "provenance": []
    },
    "kernelspec": {
      "name": "python3",
      "display_name": "Python 3"
    },
    "language_info": {
      "name": "python"
    }
  },
  "cells": [
    {
      "cell_type": "code",
      "source": [
        "Q1\n",
        "Value of k?\n",
        "Send Feedback\n",
        "#### If x:y= 1: 3, y:z= 5: k, z:t= 2: 5 and t:x= 3: 4 then what is the value of k?\n",
        "\n",
        "\n",
        "Options\n",
        "1/2 \n",
        "1/3\n",
        "2\n",
        "3\n",
        "Correct Answer\n",
        "Solution Description\n",
        " x: y= 1: 3, y: z= 5: k, z: t= 2: 5 so x: t = 2: 3k\n",
        "\n",
        "2/3k=43\t\n",
        "k=1/2"
      ],
      "metadata": {
        "id": "2tLb5PGOsZCk"
      },
      "execution_count": null,
      "outputs": []
    },
    {
      "cell_type": "code",
      "source": [
        "Q2\n",
        "Ratio Of x to y\n",
        "Send Feedback\n",
        "If the ratio of x to y is 25 times the ratio of y to x then what is the ratio of x to y?\n",
        "\n",
        "Options\n",
        "1:5\n",
        "5:1 \n",
        "25:1\n",
        "1:25\n",
        "Correct Answer\n",
        "Solution Description\n",
        "    x/y=25(y/x)\n",
        "\n",
        "\tx^2/y^2=25/1=>x/y=5/1"
      ],
      "metadata": {
        "id": "zPk_Naffsf6x"
      },
      "execution_count": null,
      "outputs": []
    },
    {
      "cell_type": "code",
      "source": [
        "Q3\n",
        "Calculate Value\n",
        "Send Feedback\n",
        "If x/y=z/w, then (xy+zw)^2=..........\n",
        "\n",
        "Options\n",
        "(x^2+z^2)(y^2+w^2) \n",
        "x^2y^2+z^2w^2\n",
        "x^2w^2+y^2z^2\n",
        "(x^2+w^2)(y^2+z^2)\n",
        "Correct Answer\n",
        "Solution Description\n",
        "x/y=z/w=k, x=yk and z=wk\n",
        "\n",
        "(xy+zw)^2=k^2(y^2+w^2)\n",
        "\n",
        "(x^2+z^2)(y^2+w^2)=k^2(y^2+w^2)^2\n",
        "\n",
        "Thus ,  (xy+zw)^2=(x^2+z^2)(y^2+w^2)"
      ],
      "metadata": {
        "id": "St-FvvPesgDI"
      },
      "execution_count": null,
      "outputs": []
    },
    {
      "cell_type": "code",
      "source": [
        "Q4\n",
        "Largest part\n",
        "Send Feedback\n",
        "Rs. 575 is to be divided into three parts proportional to 1/2 : 2/3 : 3/4 then the largest part is:\n",
        "\n",
        "Options\n",
        "Rs. 375\n",
        "Rs. 275\n",
        "Rs. 225 \n",
        "Rs. 175\n",
        "Correct Answer\n",
        "Solution Description\n",
        "1/2:2/3:3/4=6:8:9\n",
        "\n",
        "The three parts are in ratio of 6: 8: 9.\n",
        "\n",
        "So the largest part = Rs.575×(9/23)=25×9=Rs. 225"
      ],
      "metadata": {
        "id": "6POo89wHsgK4"
      },
      "execution_count": null,
      "outputs": []
    },
    {
      "cell_type": "code",
      "source": [
        "Q5\n",
        "Salaries\n",
        "Send Feedback\n",
        "The salaries of Aman, Bimal, Charan are\n",
        "in the ratio of 1: 2: 3. \n",
        "If the increment of 25%, 10%, 20% are allowed respectively in their salaries, \n",
        "then what will be the new ratio of their salaries?\n",
        "\n",
        "Options\n",
        "25:44:72 \n",
        "5:11:36\n",
        "25:40:72\n",
        "5:12:13\n",
        "Correct Answer\n",
        "Solution Description\n",
        "Let the salaries of Aman, Bimal, Charan be Rs. 100, Rs. 200, Rs. 300 respectively, then after increment their new salaries will be \n",
        "Rs. 100(1+25/100),\n",
        " 200(1+10/100), \n",
        "300(1+20/100) \n",
        "\n",
        "or Rs. 125, Rs. 220, Rs. 360 respectively.\n",
        "So the required ratio = 125: 220: 360 = 25: 44: 72"
      ],
      "metadata": {
        "id": "Fwkpilc9sgOd"
      },
      "execution_count": null,
      "outputs": []
    },
    {
      "cell_type": "code",
      "source": [
        "Q6\n",
        "Relation Between A and B\n",
        "Send Feedback\n",
        "If A = 4 when B = 24, find B when A = 7, where B varies directly as A.\n",
        "\n",
        "Options\n",
        "6\n",
        "24\n",
        "42 \n",
        "60\n",
        "Correct Answer\n",
        "Solution Description\n",
        "A = kB\n",
        "\n",
        "∴ k = A/B i.e. k = 4/24 = 1/6\n",
        "\n",
        "When, A = 7, 1/6 = 7/B\t\n",
        "i.e. B = 42. "
      ],
      "metadata": {
        "id": "JIKiYzjcM3u6"
      },
      "execution_count": null,
      "outputs": []
    },
    {
      "cell_type": "code",
      "source": [
        "Q7\n",
        "Value of?\n",
        "Send Feedback\n",
        "If (a/(x+y-z))=(b/(y+z-x))=(c/(z+x-y)), find the value of (x-y)a + (y-z)b + (z-x)c.\n",
        "\n",
        "Options\n",
        "1\n",
        "0 \n",
        "+-(1/2)\n",
        "-1\n",
        "Correct Answer\n",
        "Solution Description\n",
        " Let  \n",
        "\n",
        "(a/(x+y-z))=(b/(y+z-x))=(c/(z+x-y))=k\n",
        "\n",
        "a= k(x + y - z) ; b = k(y + z - x) ; c = (z + x - y)\n",
        "\n",
        "(x-y) (x + y - z )k + (y - z) (y + z - x)k + (z - x) (z + x - y)k \n",
        "\n",
        "Therefore on opening the bracket the value will come down to 0."
      ],
      "metadata": {
        "id": "d98-WcI_M30k"
      },
      "execution_count": null,
      "outputs": []
    }
  ]
}