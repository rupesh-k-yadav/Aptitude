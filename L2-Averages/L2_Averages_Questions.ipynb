{
  "nbformat": 4,
  "nbformat_minor": 0,
  "metadata": {
    "colab": {
      "name": "L2-Averages_Questions.ipynb",
      "provenance": []
    },
    "kernelspec": {
      "name": "python3",
      "display_name": "Python 3"
    },
    "language_info": {
      "name": "python"
    }
  },
  "cells": [
    {
      "cell_type": "code",
      "source": [
        "Q1\n",
        "Average Of Odd Numbers\n",
        "Send Feedback\n",
        "The average of all odd numbers between 20 and 30 is:\n",
        "\n",
        "Options \n",
        "23 \n",
        "21 \n",
        "25 \n",
        "27\n",
        "\n",
        "Correct Answer\n",
        "\n",
        "Solution Description Average of all odd numbers between 20 and 30 =(21 + 23 + 25+ 27+ 29)/5 = 125/5 = 25."
      ],
      "metadata": {
        "id": "2tLb5PGOsZCk"
      },
      "execution_count": null,
      "outputs": []
    },
    {
      "cell_type": "code",
      "source": [
        "Q2\n",
        "Average Of Multiples\n",
        "Send Feedback\n",
        "Average of first 20 multiples of 4 is:\n",
        "\n",
        "Options\n",
        "40\n",
        "42 \n",
        "44\n",
        "48\n",
        "Correct Answer : 42"
      ],
      "metadata": {
        "id": "zPk_Naffsf6x"
      },
      "execution_count": null,
      "outputs": []
    },
    {
      "cell_type": "code",
      "source": [
        "Q3\n",
        "Average Of Numbers\n",
        "Send Feedback\n",
        "The average of the following numbers: 1001, 1002, 1003, 1006, 1009\n",
        "\n",
        "Options\n",
        "1004\n",
        "1004.2 \n",
        "1004.8\n",
        "1004.1\n",
        "Correct Answer\n",
        "Solution Description\n",
        "lets the average of the numbers is 1005.\n",
        "Net average difference= -4/5= -0.8\n",
        "Hence, the required average= 1005- 0.8= 1004.2"
      ],
      "metadata": {
        "id": "St-FvvPesgDI"
      },
      "execution_count": null,
      "outputs": []
    },
    {
      "cell_type": "code",
      "source": [
        "Q4\n",
        "Average Of Numbers - 2\n",
        "Send Feedback\n",
        "The average of the following numbers: 1911, 1922, 1915, 1916, 1920\n",
        "\n",
        "Options\n",
        "1916\n",
        "1916.4\n",
        "1916.8 \n",
        "1917\n",
        "Correct Answer\n",
        "Solution Description\n",
        "lets the average of the numbers is 1915. Net average difference= 9/5= +1.8\n",
        "Hence, the required average= 1915+ 1.8= 1916.8"
      ],
      "metadata": {
        "id": "6POo89wHsgK4"
      },
      "execution_count": null,
      "outputs": []
    },
    {
      "cell_type": "code",
      "source": [
        "Q5\n",
        "Sachin And Average\n",
        "Send Feedback\n",
        "Sachin has an average of 90 after ten innings. If he scored 50 runs in the 11th inning \n",
        "then what is the average of Sachin after 11 innings?\n",
        "\n",
        "Options\n",
        "86.36 \n",
        "85.47\n",
        "87.87\n",
        "None of these\n",
        "Correct Answer\n",
        "Solution Description\n",
        "Average runs scored after 11th innings= (90×10+50)/(10+1)=950/11=86.36. Hence, option (a) is correct."
      ],
      "metadata": {
        "id": "Fwkpilc9sgOd"
      },
      "execution_count": null,
      "outputs": []
    },
    {
      "cell_type": "code",
      "source": [
        "Q6\n",
        "Manish And Average\n",
        "Send Feedback\n",
        "Manish average score in first five tests was 10. If after 6th test he scored 12 marks then what was his average after 6 tests?\n",
        "\n",
        "Options\n",
        "10.36\n",
        "10.33 \n",
        "17.87\n",
        "None Of These\n",
        "Correct Answer\n",
        "Solution Description\n",
        "Average score of Manish after six tests= (10×5+12)/(6)=62/6=10.33. Hence, option (b) is correct.\n"
      ],
      "metadata": {
        "id": "VKYbu707sgR5"
      },
      "execution_count": null,
      "outputs": []
    },
    {
      "cell_type": "code",
      "source": [
        "Q7\n",
        "Average Of Prime Numbers\n",
        "Send Feedback\n",
        "The average of five distinct prime numbers is 6 if first four of them are one digit prime numbers then value of 5th prime number is:\n",
        "\n",
        "Options\n",
        "11\n",
        "13 \n",
        "17\n",
        "19\n",
        "Correct Answer : 13\n",
        "Solution Description\n",
        "One digit prime numbers are 2, 3, 5, 7. Let the 5th prime numbers is x then according to the question: (2+ 3+ 5+ 7+ x)/5 = 6 "
      ],
      "metadata": {
        "id": "RRRGthzSspYw"
      },
      "execution_count": null,
      "outputs": []
    },
    {
      "cell_type": "code",
      "source": [
        "Q8\n",
        "Student Weight\n",
        "Send Feedback\n",
        "When a student weighing 46 kgs left a class, \n",
        "the average weight of the remaining 59 students increased by 300g. \n",
        "What is the average weight of the remaining 59 students?\n",
        "\n",
        "Options\n",
        "88\n",
        "98\n",
        "64 \n",
        "57\n",
        "Correct Answer\n",
        "Solution Description\n",
        "Let the average weight of the 59 students be A.\n",
        "Therefore, the total weight of the 59 of them will be 59A.\n",
        "\n",
        "The questions states that when the weight of this student who left is added, the total weight of the class = 59A + 46\n",
        "When this student is also included, the average weight decreases by 0.3 kgs.\n",
        "\n",
        "( 59A + 46)/ 60 = A – 0.3\n",
        "\n",
        "=> 59A + 46 = 60A - 18\n",
        "\n",
        "=> 46 + 18 = 60A - 59A\n",
        "=> A = 64 "
      ],
      "metadata": {
        "id": "dWO0yjYOspdE"
      },
      "execution_count": null,
      "outputs": []
    },
    {
      "cell_type": "code",
      "source": [
        "Q9\n",
        "Average Of Men Weight\n",
        "Send Feedback\n",
        "The average weight of 8 men on a rope bridge is increased by 2.5 kg, \n",
        "when one of the men, who weighs 69 kg, is replaced by a new man. \n",
        "Find the weight of the new man.\n",
        "\n",
        "Options\n",
        "79\n",
        "89 \n",
        "84\n",
        "69\n",
        "Correct Answer\n",
        "Solution Description\n",
        " Let average weight of seven men be x years.\n",
        "\n",
        "(7x+69)/8=A\n",
        "\n",
        "(7x+N)/8=A+2.5 ,where N is weight of new man.\n",
        "Solving we get N=89 kg."
      ],
      "metadata": {
        "id": "FGL7wPYnspg6"
      },
      "execution_count": null,
      "outputs": []
    },
    {
      "cell_type": "code",
      "source": [
        "Q10\n",
        "Average Honey\n",
        "Send Feedback\n",
        "The average honey collected by 19 bees of a beehive is 50 grams per day.\n",
        "If the queen bee’s collection is added, the average collection becomes 47.5 grams. What is the queen bee’s collection?\n",
        "\n",
        "Options\n",
        "4 grams\n",
        "0 grams \n",
        "6 grams\n",
        "None of these\n",
        "Correct Answer\n",
        "Solution Description\n",
        "Let queen bee’s collection be q grams;\n",
        "((19×50)+q)/20=47.5;\n",
        "Solving we get q=0"
      ],
      "metadata": {
        "id": "-cGK8vH_suTl"
      },
      "execution_count": null,
      "outputs": []
    },
    {
      "cell_type": "code",
      "source": [
        "Q11\n",
        "Rahul And Average\n",
        "Send Feedback\n",
        "The average score of Rahul after 20 innings is 20 and in the 21st innings Rahul scores 83 runs. \n",
        "In the 22nd innings the minimum number of runs required to increase his average score by 2 than it was before the 22nd innings :\n",
        "\n",
        "Options\n",
        "66\n",
        "68\n",
        "67 \n",
        "69\n",
        "Correct Answer\n",
        "Solution Description\n",
        "The average score after 20th innings = 20 \n",
        "The average score after 21st innings = 23\n",
        "Since [(20 × 20) +83]/21 = 483/21 = 23\n",
        "Now requirement of runs = 25 + (21 × 2) = 67\n",
        "Or   (25 × 22) – (23 × 21) = 67 "
      ],
      "metadata": {
        "id": "GAu90bZSspj1"
      },
      "execution_count": null,
      "outputs": []
    },
    {
      "cell_type": "code",
      "source": [
        "Q12\n",
        "Persons And Hotels\n",
        "Send Feedback\n",
        "Nine persons went to a hotel for taking their meals. \n",
        "Eight of them spent Rs.15 each on their meals and \n",
        "the ninth spent Rs.8 more than the average expenditure of all the nine. \n",
        "What was the total money spent by them.\n",
        "\n",
        "Options\n",
        "130\n",
        "131\n",
        "132\n",
        "144 \n",
        "Correct Answer\n",
        "Solution Description\n",
        "Let the average expenditure of all the nine be RS.x\n",
        "Then, 15 * 8 + (x + 8) = 9x\n",
        "Therefore x = 16\n",
        "Total money spent = 9x = RS.(9 * 16) = Rs.144"
      ],
      "metadata": {
        "id": "Xocf2wNhsvz9"
      },
      "execution_count": null,
      "outputs": []
    },
    {
      "cell_type": "code",
      "source": [
        "Q13\n",
        "Student & Sections\n",
        "Send Feedback\n",
        "There are two sections A and B of a class, \n",
        "consisting of 40 and 48 students’ respectively. \n",
        "If the average weight of section A is 50kg and that of section B is 45kg, \n",
        "find the average weight of the whole class.\n",
        "\n",
        "Options\n",
        "45.25\n",
        "46.26\n",
        "47.27 \n",
        "48.28\n",
        "Correct Answer\n",
        "Solution Description\n",
        "Total weight of (40+48) Students = (40x50+48x45)kg = 4160kg\n",
        "\n",
        "Therefore average weight of the whole class = (4160/88) kg\n",
        "\n",
        "Therefore average weight = 47.27kg"
      ],
      "metadata": {
        "id": "nSFM9Ablsvpv"
      },
      "execution_count": null,
      "outputs": []
    },
    {
      "cell_type": "code",
      "source": [
        "Q14\n",
        "Students And Average\n",
        "Send Feedback\n",
        "In a class twenty five students are standing in a row the average weight of 1st 12 students is 14 kg. \n",
        "that of last twelve is 17 kg. \n",
        "If the average weight of all the 25 students is 18 kg. \n",
        "then find the weight of 13th student.\n",
        "\n",
        "Options\n",
        "76 kg\n",
        "77 kg\n",
        "78 kg \n",
        "80 kg\n",
        "Correct Answer\n",
        "Solution Description\n",
        "Let the weight of 13th student be w kg.\n",
        "\n",
        "Total weight of first 12 students = 12×14=168kg.\n",
        "\n",
        "Total weight of last 12 students = 12×17=204 kg.\n",
        "\n",
        "Total weight of all the students = 168 + w + 204 = w + 372 = 25×18=450\n",
        "\n",
        "w = 450- 372 = 78 kg."
      ],
      "metadata": {
        "id": "AAOGs_BBszOJ"
      },
      "execution_count": null,
      "outputs": []
    },
    {
      "cell_type": "code",
      "source": [
        "Q15\n",
        "Average Weight Of Students\n",
        "Send Feedback\n",
        "The average weight of 35 students in a school 40 kg. \n",
        "If 5 students of average weight 100 kg. left the school then the new average of remaining students is:\n",
        "\n",
        "Options\n",
        "35 kg\n",
        "30 kg \n",
        "40 kg\n",
        "25 kg\n",
        "Correct Answer : 30kg"
      ],
      "metadata": {
        "id": "bC_Zx71CszR9"
      },
      "execution_count": null,
      "outputs": []
    }
  ]
}