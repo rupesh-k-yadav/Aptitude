{
  "nbformat": 4,
  "nbformat_minor": 0,
  "metadata": {
    "colab": {
      "name": "L8-Time-Work_Assignment-Questions.ipynb",
      "provenance": []
    },
    "kernelspec": {
      "name": "python3",
      "display_name": "Python 3"
    },
    "language_info": {
      "name": "python"
    }
  },
  "cells": [
    {
      "cell_type": "code",
      "source": [
        "Q1\n",
        "Men Required\n",
        "Send Feedback\n",
        "If 10 men complete a piece of work in 30 days, how many men are required to complete the same in 25 days?\n",
        "\n",
        "Options\n",
        "35\n",
        "18\n",
        "12 \n",
        "20\n",
        "Correct Answer\n",
        "Solution Description\n",
        "No. of  men required is inversely proportional to the no. of days required. \n",
        "\n",
        "Hence, M1/ M2= D2/D1 where M1=10, M2=? ,D1=30 , D2=25. \n",
        "\n",
        "Now, we get M2=12 by putting the values."
      ],
      "metadata": {
        "id": "2tLb5PGOsZCk"
      },
      "execution_count": null,
      "outputs": []
    },
    {
      "cell_type": "code",
      "source": [
        "Q2\n",
        "Shubham And Number Of Days\n",
        "Send Feedback\n",
        "Shubham can do 25% of work in 10 days. How many days will he take to complete a work equal to 5 times this work?\n",
        "\n",
        "Options\n",
        "250 days\n",
        "200 days \n",
        "300 days\n",
        "350 days\n",
        "Correct Answer\n",
        "Solution Description\n",
        "Work done by Shubham in 10 days= W/4 if W is total work. \n",
        "\n",
        "Hence, he completes the work in 40 days so does 5 times of that work in 40 X 5=200 days. "
      ],
      "metadata": {
        "id": "zPk_Naffsf6x"
      },
      "execution_count": null,
      "outputs": []
    },
    {
      "cell_type": "code",
      "source": [
        "Q3\n",
        "Days To Complete Work\n",
        "Send Feedback\n",
        "10 men can dig a hole in 18 days. After 6 days, 5 more men joined. After how many days the remaining work would be completed?\n",
        "\n",
        "Options\n",
        "16 days\n",
        "13 days\n",
        "8 days \n",
        "12 days\n",
        "Correct Answer\n",
        "Solution Description\n",
        "Solution: total work= 10 x 18= 180 men-days\n",
        "\n",
        "After 6 days remaining work= 180- 60= 120 men-days\n",
        "\n",
        "Required time to complete the work= 120/15=8 days. "
      ],
      "metadata": {
        "id": "St-FvvPesgDI"
      },
      "execution_count": null,
      "outputs": []
    },
    {
      "cell_type": "code",
      "source": [
        "Q4\n",
        "Number Of Men To Finish Work\n",
        "Send Feedback\n",
        "18 men working 8 hours a day can complete a work in 5 days. Working at a rate of 6 hours a day, the number of men required to finish the work in 10 days is\n",
        "\n",
        "Options\n",
        "12 \n",
        "10\n",
        "15\n",
        "20\n",
        "Correct Answer\n",
        "Solution Description\n",
        "Total work= 18×8×5=720 =6×10×x=60x, where x is the no. Of men required. \n",
        "On equating, we get x=12."
      ],
      "metadata": {
        "id": "6POo89wHsgK4"
      },
      "execution_count": null,
      "outputs": []
    }
  ]
}