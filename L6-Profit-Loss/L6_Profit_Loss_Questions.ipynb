{
  "nbformat": 4,
  "nbformat_minor": 0,
  "metadata": {
    "colab": {
      "name": "L6-Profit-Loss-Questions.ipynb",
      "provenance": []
    },
    "kernelspec": {
      "name": "python3",
      "display_name": "Python 3"
    },
    "language_info": {
      "name": "python"
    }
  },
  "cells": [
    {
      "cell_type": "code",
      "source": [
        "Q1\n",
        "Man And Cycle\n",
        "Send Feedback\n",
        "A man buys a cycle for Rs. 1400 and sells it at a loss of 15%. What is the selling price (in Rs.) of the cycle?\n",
        "\n",
        "Options\n",
        "1202\n",
        "1190 \n",
        "1160\n",
        "1000\n",
        "Correct Answer\n",
        "Solution Description\n",
        "Selling price= \n",
        "\n",
        "Cost price – Loss= 1400-1400×(15/100)=1400-210=Rs.1190.\n",
        "\n",
        " Hence, option (2) is correct."
      ],
      "metadata": {
        "id": "2tLb5PGOsZCk"
      },
      "execution_count": null,
      "outputs": []
    },
    {
      "cell_type": "code",
      "source": [
        "Q2\n",
        "Retailer And Radio\n",
        "Send Feedback\n",
        "A retailer buys a radio for Rs. 225. His overhead expenses are Rs.15. He sells the radio for Rs. 300. The profit per cent of the retailer is :\n",
        "\n",
        "Options\n",
        "25% \n",
        "26.67%\n",
        "20%\n",
        "33.33%\n",
        "Correct Answer\n",
        "Solution Description\n",
        "Total cost price= Rs. 225+ Rs. 15= Rs. 240.\n",
        "\n",
        "Percentage profit= (60/240)×100=25% profit. Hence, option (1) is correct."
      ],
      "metadata": {
        "id": "zPk_Naffsf6x"
      },
      "execution_count": null,
      "outputs": []
    },
    {
      "cell_type": "code",
      "source": [
        "Q3\n",
        "Tradesman And Goods\n",
        "Send Feedback\n",
        "A tradesman marks his goods 10% above his cost price. \n",
        "If he allows his customers 10% discount on the marked price, how much profit or loss does he make, if any?\n",
        "\n",
        "Options\n",
        "1% gain\n",
        "1%loss \n",
        "5% gain\n",
        "No gain, no loss\n",
        "Correct Answer\n",
        "Solution Description\n",
        "Let the cost price is Rs. 100.\n",
        "\n",
        "Marked price= Rs. 100+ 10% of 100= Rs. 110.\n",
        "\n",
        "Selling price= 110- 10% of 110= Rs.99.\n",
        "\n",
        "Net loss= 100- 99= Rs. 1.\n",
        "\n",
        "Percentage loss= (1/100)×100=1% loss. Hence, option (2) is correct."
      ],
      "metadata": {
        "id": "St-FvvPesgDI"
      },
      "execution_count": null,
      "outputs": []
    },
    {
      "cell_type": "code",
      "source": [
        "Q4\n",
        "Trade And Goods\n",
        "Send Feedback\n",
        "A trader marks his goods 45% above the cost price and gives a discount of 20% on the marked price. The gain % on goods he makes is :\n",
        "\n",
        "Options\n",
        "15%\n",
        "14%\n",
        "29%\n",
        "16% \n",
        "Correct Answer\n",
        "Solution Description\n",
        "Let the cost price= Rs. 100.\n",
        "\n",
        "Marked price= 100+ 45% of 100= Rs. 145.\n",
        "\n",
        "Selling price= 145- 20% of 145= Rs. 116.\n",
        "\n",
        "Percentage gain= (116-100)/100×100=16%. Hence, option (4) is correct."
      ],
      "metadata": {
        "id": "6POo89wHsgK4"
      },
      "execution_count": null,
      "outputs": []
    },
    {
      "cell_type": "code",
      "source": [
        "Q5\n",
        "Shopkeeper And Chair\n",
        "Send Feedback\n",
        "A shopkeeper purchased a chair marked at Rs.800, at two successive discounts of 10% and 15% respectively. \n",
        "He spent Rs.28 on transportation and sold the chair for Rs.800. His gain percent is :\n",
        "\n",
        "Options\n",
        "40%\n",
        "30%\n",
        "25% \n",
        "14%\n",
        "Correct Answer\n",
        "Solution Description\n",
        "Two successive discounts of 10% and 15% is equivalent to 10+15-((10×15)/100)=23.5%.\n",
        "\n",
        " After two successive discounts of 10% and 15% shopkeeper get the chair at 800- 23.5% of 800= Rs. 612.\n",
        "\n",
        "But he had to pay Rs. 28 on transportation. Hence, the net cost price=612+ 28= Rs. 640.\n",
        "\n",
        "Selling price= Rs. 800\n",
        "\n",
        "Net profit= 800- 640= Rs. 160.\n",
        "\n",
        "Percentage profit= (160/640)×100=25%. Hence, option (3) is correct."
      ],
      "metadata": {
        "id": "Fwkpilc9sgOd"
      },
      "execution_count": null,
      "outputs": []
    },
    {
      "cell_type": "code",
      "source": [
        "Q6\n",
        "Better to Customer\n",
        "Send Feedback\n",
        "Which of the following successive discounts is better to a customer?\n",
        "(a) 20%, 15%, 10% or\n",
        "(b) 25%, 12%, 8% ?\n",
        "\n",
        "Options\n",
        "(a) is better\n",
        "(b) is better \n",
        "(a) or (b) (both are same)\n",
        "None of these\n",
        "Correct Answer\n",
        "Solution Description\n",
        "Let’s check both the given discount schemes one by one:\n",
        "\n",
        "(a) 20%, 15% and 10%.\n",
        "If the marked price is Rs. 100----(-20%)---->80----(-15%)------>68----(-10%)---->61.20\n",
        "Net discount= 100- 61.20= Rs.38.80.\n",
        "\n",
        "(b) 25%, 12%, 8% \n",
        "If the marked price is Rs. 100----(-25%)---->75----(-12%)------>66----(-8%)---->60.72\n",
        "Net discount= 100- 60.72= Rs.39.28.\n",
        "\n",
        "(b) gives a better discount than (a) hence, b is better. Hence, option (2) is correct."
      ],
      "metadata": {
        "id": "JIKiYzjcM3u6"
      },
      "execution_count": null,
      "outputs": []
    },
    {
      "cell_type": "code",
      "source": [
        "Q7\n",
        "Interest per Annum\n",
        "Send Feedback\n",
        "In what time will Rs. 500 give Rs. 50 as interest at the rate of 5% per annum?\n",
        "\n",
        "Options\n",
        "2 years \n",
        "3 years\n",
        "4 years\n",
        "5 years\n",
        "Correct Answer\n",
        "Solution Description\n",
        "50 = ((500*5*t)/100)=>t=2 years"
      ],
      "metadata": {
        "id": "d98-WcI_M30k"
      },
      "execution_count": null,
      "outputs": []
    },
    {
      "cell_type": "code",
      "source": [
        "Q8\n",
        "Rate Of Interest\n",
        "Send Feedback\n",
        "A sum of 1600 gives a simple interest of 252 in 2 years and 3 months. \n",
        "The rate of interest per annum is:\n",
        "\n",
        "Options\n",
        "11/2%\n",
        "8%\n",
        "7% \n",
        "6%\n",
        "Correct Answer\n",
        "Solution Description\n",
        "Interest per annum= 252/2.25= Rs.112\n",
        "\n",
        "Interest rate= (112/1600)*100=7% per annum. \n",
        "\n",
        "Hence, option (c) is correct."
      ],
      "metadata": {
        "id": "5THumdTZcYGo"
      },
      "execution_count": null,
      "outputs": []
    },
    {
      "cell_type": "code",
      "source": [
        "Q9\n",
        "Calculate R.O.I?\n",
        "Send Feedback\n",
        "A sum of Rs.10,500 yield interest of Rs.3150 in 5 years at the rate of simple interest. \n",
        "What is the rate of interest?\n",
        "\n",
        "Options\n",
        "4%\n",
        "5%\n",
        "6% \n",
        "None Of These\n",
        "Correct Answer\n",
        "Solution Description\n",
        "Required rate of interest= (3150×100)/(10500×5)=6.0% per annum. Hence, option d is correct."
      ],
      "metadata": {
        "id": "mHVgv8WBcYSc"
      },
      "execution_count": null,
      "outputs": []
    },
    {
      "cell_type": "code",
      "source": [
        "Q10\n",
        "Ashok And Loan\n",
        "Send Feedback\n",
        "Ashok took a loan of Rs.10000 with simple interest for as many years as the rate of interest. \n",
        "If she paid Rs.625 as interest at the end of the loan period, what was the rate of interest?\n",
        "\n",
        "Options\n",
        "2\n",
        "2.5 \n",
        "5\n",
        "Cannot be determined\n",
        "Correct Answer\n",
        "Solution Description\n",
        "Let the interest rate and the time be x% per annum and x years respectively.\n",
        "\n",
        "(10000*x*x)/100=625\n",
        "\n",
        "x^2=(625/100) or x=25/10=2.5% per annum."
      ],
      "metadata": {
        "id": "_HG3BzsmcYWR"
      },
      "execution_count": null,
      "outputs": []
    },
    {
      "cell_type": "code",
      "source": [
        "Q11\n",
        "Total Sum\n",
        "Send Feedback\n",
        "A sum fetched a total simple interest of Rs.420 at the rate of 3% per annum in 14 years. \n",
        "What is the sum?\n",
        "\n",
        "Options\n",
        "Rs 1000 \n",
        "Rs 800\n",
        "Rs 900\n",
        "None Of These\n",
        "Correct Answer\n",
        "Solution Description\n",
        "Let the sum be Rs. x.\n",
        "\n",
        "Interest for the sum for 14 years= Rs. 420\n",
        "\n",
        "x*(3/100)×14=420\n",
        "\n",
        "0.42x=420\n",
        "\n",
        "x=Rs. 1000"
      ],
      "metadata": {
        "id": "4Dk3-iw3cYa0"
      },
      "execution_count": null,
      "outputs": []
    },
    {
      "cell_type": "code",
      "source": [
        "Q12\n",
        "Amount Increase\n",
        "Send Feedback\n",
        "Xlent Rs. 1000 to Y for 3 years and Rs. 2000 to Z for 6 years on simple interest at the same rate of interest\n",
        "and received Rs.2250 in all from both of them as interest. The rate of interest per annum is :\n",
        "\n",
        "Options\n",
        "12.5%\n",
        "15% \n",
        "17.5%\n",
        "None Of These\n",
        "Correct Answer\n",
        "Solution Description\n",
        "Let the rate of interest be r% per annum. According to the question:\n",
        "\n",
        "1000×(r/100)×3+2000×(r/100)×6=2250\n",
        "\t\n",
        "By solving the above equation we get: r= 15% per annum."
      ],
      "metadata": {
        "id": "sMvX9QR_cYdj"
      },
      "execution_count": null,
      "outputs": []
    },
    {
      "cell_type": "code",
      "source": [
        "Q13\n",
        "Calculate Principal?\n",
        "Send Feedback\n",
        "The principal, which will amount to Rs. 270.40 in 2 years at the rate of 4% per annum compound interest, is (in Rs.)\n",
        "\n",
        "Options\n",
        "200\n",
        "225\n",
        "250 \n",
        "220\n",
        "Correct Answer: 250"
      ],
      "metadata": {
        "id": "U7Jb0wsfcYpI"
      },
      "execution_count": null,
      "outputs": []
    },
    {
      "cell_type": "code",
      "source": [
        "Q14\n",
        "Calculate CI?\n",
        "Send Feedback\n",
        "The compound interest (in Rs.) on Rs. 2000 in 2 years\n",
        "if the rate of interest is 4% per annum for the first year and 3% per annum for the second year, will be\n",
        "\n",
        "Options\n",
        "142.40 \n",
        "140.40\n",
        "141.40\n",
        "143.40\n",
        "Correct Answer\n",
        "Solution Description\n",
        "Principal amount= Rs. 2000\n",
        "\n",
        "Amount after 1 year= 2000+ 4% of Rs. 2000= Rs. 2000+ 80\n",
        "\n",
        "Amount after 2 years= Rs. 2000+ 80+ 3% of Rs. 2000+ 80= Rs. 2000+ 80+ 60+ 2.4=  Rs. 2142.40\n",
        "\n",
        "Required interest= Rs. 2142.40- 2000= Rs. 142.40. Hence, option (a) is correct."
      ],
      "metadata": {
        "id": "FBngwiuPdokY"
      },
      "execution_count": null,
      "outputs": []
    },
    {
      "cell_type": "code",
      "source": [
        "Q15\n",
        "Find CI?\n",
        "Send Feedback\n",
        "Find the compound interest on Rs. 5000 at a rate of 10% per annum for 1.5 years, compounded half yearly.\n",
        "\n",
        "Options\n",
        "Rs. 750\n",
        "Rs. 788.125 \n",
        "Rs. 780\n",
        "None Of These\n",
        "Correct Answer\n",
        "Solution Description\n",
        "Interest rate= 10% per annum or 5% per half year.\n",
        "\n",
        "Time= 3 half years\n",
        "\n",
        "Total amount after 1.5 years=5000[1+(5/100)]^3=Rs.5788.125\n",
        "\n",
        "C.I. = Rs. (5788.125- 5000)= Rs. 788.125. Hence, option b is correct."
      ],
      "metadata": {
        "id": "DRLFd-MwdovG"
      },
      "execution_count": null,
      "outputs": []
    },
    {
      "cell_type": "code",
      "source": [
        "Q16\n",
        "Compounded Quarterly\n",
        "Send Feedback\n",
        "Find the compound interest on Rs. 8000 at a rate of 20% per annum for 9months, compounded quarterly.\n",
        "\n",
        "Options\n",
        "Rs 1261 \n",
        "Rs 1200\n",
        "Rs 1161\n",
        "None Of These\n",
        "Correct Answer\n",
        "Solution Description\n",
        " Interest rate= 20% per annum or 5% per quarter.\n",
        "\n",
        "Time= 3 quarters.\n",
        "\n",
        "Total amount after 1.5 years= 8000[1+(5/100)]^3=\n",
        "\n",
        "8000×((21/20) ×(21/20)x(21/20))=Rs. 9261\n",
        "\n",
        "Compound interest = Rs. (9261- 8000)= Rs. 1261. Hence, option a is correct."
      ],
      "metadata": {
        "id": "3BmJwoHudo69"
      },
      "execution_count": null,
      "outputs": []
    },
    {
      "cell_type": "code",
      "source": [
        "Q17\n",
        "Sum Of Money\n",
        "Send Feedback\n",
        "The difference between simple interest and compound interest of a certain sum of money at 20% per annum for 2 years is Rs. 48. Then the sum is (in Rs.)\n",
        "\n",
        "Options\n",
        "1000\n",
        "1200 \n",
        "1500\n",
        "2000\n",
        "Correct Answer\n",
        "Solution Description\n",
        "Difference between simple and compound interest for a period of 2 years= (p*r^2)/100, where P is the principal amount and r is the rate of interest.\n",
        "\n",
        "p(r/100)^2=48 \n",
        "r= 20% per annum.\n",
        "p(20/100)^2=48 \n",
        "P= Rs.1200. Hence, option (c) is correct."
      ],
      "metadata": {
        "id": "gIJN_2JqdpCf"
      },
      "execution_count": null,
      "outputs": []
    },
    {
      "cell_type": "code",
      "source": [
        "Q18\n",
        "Find SI?\n",
        "Send Feedback\n",
        "If the compound interest on a certain amount at 20% per annum for 3 years is Rs. 1092 \n",
        "then find the simple interest on the same amount at the same interest rate and for the same period.\n",
        "\n",
        "Options\n",
        "Rs 1200\n",
        "Rs 900 \n",
        "Rs 1100\n",
        "None Of These\n",
        "Correct Answer\n",
        "Solution Description\n",
        "Let the principal amount is Rs. ‘p’, then according to the question:\n",
        "\n",
        "p(1+r/100)^3-p=1092\n",
        "(216/125)p-p=1092\n",
        "91p/125=1092\n",
        "p=Rs. 1500\n",
        "Simple interest= (1500×20×3)/100=Rs. 900"
      ],
      "metadata": {
        "id": "ch9h8ll6eUEp"
      },
      "execution_count": null,
      "outputs": []
    }
  ]
}