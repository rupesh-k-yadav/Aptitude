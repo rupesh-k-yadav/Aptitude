{
  "nbformat": 4,
  "nbformat_minor": 0,
  "metadata": {
    "colab": {
      "name": "L4-Percentages_Questions.ipynb",
      "provenance": []
    },
    "kernelspec": {
      "name": "python3",
      "display_name": "Python 3"
    },
    "language_info": {
      "name": "python"
    }
  },
  "cells": [
    {
      "cell_type": "code",
      "source": [
        "Q1\n",
        "Calculate Percentage\n",
        "Send Feedback\n",
        "24% = ?\n",
        "\n",
        "Options\n",
        "6/25 \n",
        "13/50\n",
        "1/5\n",
        "None of These\n",
        "Correct Answer\n",
        "Solution Description\n",
        "24% = 24/100 = 6/ 25\n"
      ],
      "metadata": {
        "id": "2tLb5PGOsZCk"
      },
      "execution_count": null,
      "outputs": []
    },
    {
      "cell_type": "code",
      "source": [
        "Q2\n",
        "In Terms Of Percentage\n",
        "Send Feedback\n",
        "3/7= ?(In Terms Of Percentage)(Calculate the approx. value)\n",
        "\n",
        "Options\n",
        "34%\n",
        "43% \n",
        "28%\n",
        "None Of These\n",
        "Correct Answer\n",
        "Solution Description\n",
        "3/7= 3/7×100=300/7=42.9%≈43%"
      ],
      "metadata": {
        "id": "zPk_Naffsf6x"
      },
      "execution_count": null,
      "outputs": []
    },
    {
      "cell_type": "code",
      "source": [
        "Q3\n",
        "Simplify Percent\n",
        "Send Feedback\n",
        "30% = ?\n",
        "\n",
        "Options\n",
        "3/25\n",
        "7/50\n",
        "1/5\n",
        "None of These \n",
        "Correct Answer\n",
        "Solution Description\n",
        "30%= 30/100= 3/10. Hence, option (d) is correct."
      ],
      "metadata": {
        "id": "St-FvvPesgDI"
      },
      "execution_count": null,
      "outputs": []
    },
    {
      "cell_type": "code",
      "source": [
        "Q4\n",
        "Ramesh Speed\n",
        "Send Feedback\n",
        "Ramesh initial speed was 50 kmph if he increased his speed by 20% then what would be his new speed?\n",
        "\n",
        "Options\n",
        "60 kmph \n",
        "70 kmph\n",
        "55 kmph\n",
        "None Of These\n",
        "Correct Answer\n",
        "Solution Description\n",
        "Final speed= 50+ 20% of 50= 50+ (20/100)×50=50+10=60 kmph"
      ],
      "metadata": {
        "id": "6POo89wHsgK4"
      },
      "execution_count": null,
      "outputs": []
    },
    {
      "cell_type": "code",
      "source": [
        "Q5\n",
        "Sahir's Wealth\n",
        "Send Feedback\n",
        "Sahir’s wealth at the start of the year was Rs. 1000 and at the end of the year it was Rs. 1500.\n",
        "What was the percentage increment in the wealth of Sahir at the end of the year from the start of the year?\n",
        "\n",
        "Options\n",
        "45%\n",
        "50% \n",
        "75%\n",
        "None Of These\n",
        "Correct Answer\n",
        "Solution Description\n",
        "Percentage increment in wealth= ((1500-1000)/1000)×100=50%\n",
        "Hence, option (b) is correct."
      ],
      "metadata": {
        "id": "Fwkpilc9sgOd"
      },
      "execution_count": null,
      "outputs": []
    },
    {
      "cell_type": "code",
      "source": [
        "Q6\n",
        "Ram And His Speed\n",
        "Send Feedback\n",
        "Ram’s initial speed was 5 kmph and if he increased his speed by 14% then what would be his final speed?\n",
        "\n",
        "Options\n",
        "5.7 kmph \n",
        "4.5 kmph\n",
        "5.6 kmph\n",
        "None of These\n",
        "Correct Answer\n",
        "Solution Description\n",
        "10% of 5= 0.5 , 4% of 5= 0.2\n",
        "Final speed= 5+ 0.5+ 0.2= 5.7 kmph. Hence, option (a) is correct."
      ],
      "metadata": {
        "id": "JIKiYzjcM3u6"
      },
      "execution_count": null,
      "outputs": []
    },
    {
      "cell_type": "code",
      "source": [
        "Q7\n",
        "Percentage Change\n",
        "Send Feedback\n",
        "If P=XY,X was increased by 30% and Y was increased by 20% then what is the percentage change in P?\n",
        "\n",
        "Options\n",
        "50%\n",
        "60%\n",
        "56% \n",
        "None of these\n",
        "Correct Answer\n",
        "Solution Description\n",
        "Final value of P= 1.3X*1.2Y= 1.56XY\n",
        "Hence, the percentage change = 56%. Option (c) is correct."
      ],
      "metadata": {
        "id": "d98-WcI_M30k"
      },
      "execution_count": null,
      "outputs": []
    },
    {
      "cell_type": "code",
      "source": [
        "Q8\n",
        "Calculate Value Of C?\n",
        "Send Feedback\n",
        "120 (Increment by 10%) -> A (Increment by 20%) -> B (Increment by 30%) -> C\n",
        "\n",
        "What is the value of C?\n",
        "\n",
        "Options\n",
        "205.92 \n",
        "160.05\n",
        "132.05\n",
        "None Of These\n",
        "Correct Answer : 205.92"
      ],
      "metadata": {
        "id": "3Xm7aXHuM34C"
      },
      "execution_count": null,
      "outputs": []
    },
    {
      "cell_type": "code",
      "source": [
        "Q9\n",
        "Change in Salary\n",
        "Send Feedback\n",
        "A’s salary is increased by 10% and then decreased by 10%. The change in salary is\n",
        "Options\n",
        "0%\n",
        "1% decrease \n",
        "1% increase\n",
        "2 % decrease\n",
        "Correct Answer\n",
        "Solution Description\n",
        "Change in salary = (10-10+((10 ×-10)/100)% = -1%\n",
        "\t= -((10×10)/100)=-1%\n",
        "\n",
        "Negative sign shows decrease in salary. Hence, option (b) is correct."
      ],
      "metadata": {
        "id": "ncUu1cT6M37e"
      },
      "execution_count": null,
      "outputs": []
    },
    {
      "cell_type": "code",
      "source": [
        "Q10\n",
        "Height Of Triangle\n",
        "Send Feedback\n",
        "The height of a triangle is increased by 20%. \n",
        "What can be the maximum percentage increase in length of the base so that the increase in area is restricted to a maximum of 50%?\n",
        "Options\n",
        "50%\n",
        "25% \n",
        "14.28%\n",
        "35%\n",
        "Correct Answer: 25%"
      ],
      "metadata": {
        "id": "QLe1TgHmM3-j"
      },
      "execution_count": null,
      "outputs": []
    },
    {
      "cell_type": "code",
      "source": [
        "Q11\n",
        "Price Of Sugar\n",
        "Send Feedback\n",
        "The price of sugar falls by 20%. \n",
        "How much sugar can be bought now with the money that was sufficient to buy 20kg of sugar previously?\n",
        "Options\n",
        "5 kg\n",
        "15 kg\n",
        "25 kg \n",
        "30 kg\n",
        "Correct Answer: 25kg"
      ],
      "metadata": {
        "id": "G8_zNu1CNqHC"
      },
      "execution_count": null,
      "outputs": []
    },
    {
      "cell_type": "code",
      "source": [
        "Q12\n",
        "Rajeev And Goods\n",
        "Send Feedback\n",
        "Rajeev buys good worth Rs. 6000. \n",
        "He gets a rebate of 10% on it. After getting the rebate, \n",
        "he pays sales tax @ 20%. Find the amount he will have to pay for the goods?\n",
        "\n",
        "Options\n",
        "6400\n",
        "6480 \n",
        "6520\n",
        "6690\n",
        "Correct Answer\n",
        "Solution Description\n",
        "Rebate = 10% of 6000 =600;\n",
        "\n",
        "Sales tax = 20% of (6000-600) =1080;\n",
        "\n",
        "Amount to be paid = 5400 + 1080 = 6480"
      ],
      "metadata": {
        "id": "R8P-UPZEN1mC"
      },
      "execution_count": null,
      "outputs": []
    },
    {
      "cell_type": "code",
      "source": [
        "Q13\n",
        "Price Of Article\n",
        "Send Feedback\n",
        "The price of an article is first decreased by 20% and then increased by 30%.\n",
        "If the resulting price is Rs 416, the original price of the article is\n",
        "\n",
        "Options\n",
        "Rs 350\n",
        "Rs 405\n",
        "Rs 400 \n",
        "Rs 450\n",
        "Correct Answer : 400"
      ],
      "metadata": {
        "id": "X709SkfPN1zd"
      },
      "execution_count": null,
      "outputs": []
    },
    {
      "cell_type": "code",
      "source": [
        "Q14\n",
        "Volume Of Box\n",
        "Send Feedback\n",
        "The length, breadth and height of an box in the shape of a cuboid are \n",
        "decreased by 10%, 20% and 10% respectively. Find the % change in the volume of the box.\n",
        "\n",
        "Options\n",
        "35.2%\n",
        "-35.2% \n",
        "34%\n",
        "33.33%\n",
        "Correct Answer\n",
        "Solution Description\n",
        "    Let the original length, breadth and height be L,B,H respectively\n",
        "\n",
        "\tNew dimensions=0.9L, 0.8B, 0.9H\n",
        "\tNew volume=0.648(LBH)\n",
        "\t% decrease=[(LBH-0.648LBH)/LBH]X100%=35.2%\n",
        "           %change= -35.2%. Negative sign denotes decrease"
      ],
      "metadata": {
        "id": "rkOFhfybN2Cj"
      },
      "execution_count": null,
      "outputs": []
    },
    {
      "cell_type": "code",
      "source": [
        "Q15\n",
        "Rectangle Volume\n",
        "Send Feedback\n",
        "The length and breadth of a rectangle are changed by +10% and -10%.\n",
        "What is the percentage change in area of rectangle?\n",
        "\n",
        "Options\n",
        "-1% \n",
        "-2%\n",
        "+1%\n",
        "+2%\n",
        "Correct Answer\n",
        "Solution Description\n",
        "    Let the initial length and breadth ‘l’ and ‘b’. The area of rectangle = lb\n",
        "    Final length and breadth of rectangle 1.1l and 0.9b. \n",
        "    The area of rectangle= 1.1l×0.9b=0.99lb\n",
        "    % change in area = ((0.99lb-lb)/lb)×100=-1%"
      ],
      "metadata": {
        "id": "zWd8kLAkN2MY"
      },
      "execution_count": null,
      "outputs": []
    },
    {
      "cell_type": "code",
      "source": [
        "Q16\n",
        "Hike In Salary\n",
        "Send Feedback\n",
        "I recently got a promotion accompanied by 23% hike in salary \n",
        "but due to recession it my salary was reduced by 32%.What was net change in my salary?\n",
        "\n",
        "Options\n",
        "15.89% decrement\n",
        "15.89% increment\n",
        "16.4 % increment\n",
        "16.4 %decrement \n",
        "Correct Answer\n",
        "Solution Description\n",
        "    Let initially salary be 100\n",
        "    After hike salary = 123\n",
        "    After decrement salary = 83.64\n",
        "    Net change= (83.64-100)/100=16.4 decrement "
      ],
      "metadata": {
        "id": "d6LLLhvMOggf"
      },
      "execution_count": null,
      "outputs": []
    },
    {
      "cell_type": "code",
      "source": [
        "Q17\n",
        "Cost Of Article\n",
        "Send Feedback\n",
        "The cost of an article worth Rs100 is increased by 25% first and again decreased by x%. \n",
        "The final cost of the article is Rs. 100. The value of x is\n",
        "Options\n",
        "20 \n",
        "21\n",
        "110\n",
        "121\n",
        "Correct Answer: 20"
      ],
      "metadata": {
        "id": "nKGbF-Q7OgmA"
      },
      "execution_count": null,
      "outputs": []
    },
    {
      "cell_type": "code",
      "source": [
        "Q18\n",
        "Cost Of Articles - 2\n",
        "Send Feedback\n",
        "The cost of an article worth Rs 1000 is \n",
        "increased by 20% first and again decreased by x%.\n",
        "The final cost of the article is Rs. 1000. The value of x is\n",
        "\n",
        "Options\n",
        "20\n",
        "21\n",
        "110\n",
        "16.67 \n",
        "Correct Answer: 16.67"
      ],
      "metadata": {
        "id": "johoe3QUOgvx"
      },
      "execution_count": null,
      "outputs": []
    }
  ]
}