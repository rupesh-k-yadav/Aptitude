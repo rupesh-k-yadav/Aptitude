{
  "nbformat": 4,
  "nbformat_minor": 0,
  "metadata": {
    "colab": {
      "name": "L16-Blood-Relation-Calenders_Questions.ipynb",
      "provenance": []
    },
    "kernelspec": {
      "name": "python3",
      "display_name": "Python 3"
    },
    "language_info": {
      "name": "python"
    }
  },
  "cells": [
    {
      "cell_type": "code",
      "source": [
        "Q1\n",
        "Male Female Problem-1\n",
        "Send Feedback\n",
        "Direction for next 4 questions\n",
        "Answer the questions on the basis of the information given below:\n",
        "There are six persons in a room namely- A, B, C, D, E and F.A and E are brothers, \n",
        "B and D are daughters of the brother of C’s father. F is the sister of E, C is the only son of A’s uncle.\n",
        "How many male persons are there?\n",
        "\n",
        "Options\n",
        "5\n",
        "3 \n",
        "1\n",
        "0\n",
        "Correct Answer: 3"
      ],
      "metadata": {
        "id": "2tLb5PGOsZCk"
      },
      "execution_count": null,
      "outputs": []
    },
    {
      "cell_type": "code",
      "source": [
        "Q2\n",
        "Male Female Problem -2\n",
        "Send Feedback\n",
        "How is C related to F?\n",
        "\n",
        "Options\n",
        "Uncle\n",
        "Cousin \n",
        "Aunt\n",
        "None Of These\n",
        "Correct Answer: Cousin"
      ],
      "metadata": {
        "id": "zPk_Naffsf6x"
      },
      "execution_count": null,
      "outputs": []
    },
    {
      "cell_type": "code",
      "source": [
        "Q3\n",
        "Male Female Problem-3\n",
        "Send Feedback\n",
        "How many female persons are there?\n",
        "\n",
        "Options\n",
        "0\n",
        "1\n",
        "2\n",
        "3 \n",
        "Correct Answer: 3"
      ],
      "metadata": {
        "id": "St-FvvPesgDI"
      },
      "execution_count": null,
      "outputs": []
    },
    {
      "cell_type": "code",
      "source": [
        "Q4\n",
        "Male Female Problem-4\n",
        "Send Feedback\n",
        "D is A’s …..?\n",
        "\n",
        "Options\n",
        "Uncle\n",
        "Father\n",
        "Cousin \n",
        "Mother\n",
        "Correct Answer: Cousin"
      ],
      "metadata": {
        "id": "6POo89wHsgK4"
      },
      "execution_count": null,
      "outputs": []
    },
    {
      "cell_type": "code",
      "source": [
        "Q5\n",
        "Family Problem-1\n",
        "Send Feedback\n",
        "Direction for next six questions:\n",
        "A, B, C, D, E and F are six members of a family. \n",
        "C is not the mother of B but B is son of C. A and C are married couple. E is the brother of C. F is the brother of B. D is the daughter of A.\n",
        "E is D’s _?\n",
        "\n",
        "Options\n",
        "Uncle \n",
        "Mother\n",
        "Father\n",
        "Brother\n",
        "Correct Answer: Uncle"
      ],
      "metadata": {
        "id": "2-c59K6_FfnF"
      },
      "execution_count": null,
      "outputs": []
    },
    {
      "cell_type": "code",
      "source": [
        "Q6\n",
        "Family Problem-2\n",
        "Send Feedback\n",
        "Which of the following is a pair of females?\n",
        "\n",
        "Options\n",
        "AD \n",
        "BD\n",
        "CA\n",
        "BA\n",
        "Correct Answer: AD"
      ],
      "metadata": {
        "id": "ZXNBHtDVFft-"
      },
      "execution_count": null,
      "outputs": []
    },
    {
      "cell_type": "code",
      "source": [
        "Q7\n",
        "Family Problem-3\n",
        "Send Feedback\n",
        "E’s wife is _?\n",
        "\n",
        "Options\n",
        "A\n",
        "C\n",
        "F\n",
        "Can't be determined \n",
        "Correct Answer: Can't be determined  "
      ],
      "metadata": {
        "id": "jnRM9Us6Ffyh"
      },
      "execution_count": null,
      "outputs": []
    },
    {
      "cell_type": "code",
      "source": [
        "Q8\n",
        "Family Problem-4\n",
        "Send Feedback\n",
        "How many Kids does A have?\n",
        "\n",
        "Options\n",
        "0\n",
        "1\n",
        "2\n",
        "3 \n",
        "Correct Answer: 3"
      ],
      "metadata": {
        "id": "O3miGISjQOoG"
      },
      "execution_count": null,
      "outputs": []
    },
    {
      "cell_type": "code",
      "source": [
        "Q9\n",
        "Family Problem-5\n",
        "Send Feedback\n",
        "How many female members are in the family?\n",
        "\n",
        "Options\n",
        "0\n",
        "1\n",
        "2 \n",
        "3\n",
        "Correct Answer: 2"
      ],
      "metadata": {
        "id": "9xVWZcGaQO2Q"
      },
      "execution_count": null,
      "outputs": []
    },
    {
      "cell_type": "code",
      "source": [
        "Q10\n",
        "Family Problem-6\n",
        "Send Feedback\n",
        "B’s mother is _?\n",
        "\n",
        "Options\n",
        "A \n",
        "E\n",
        "F\n",
        "D\n",
        "Correct Answer: A"
      ],
      "metadata": {
        "id": "hyorEJR-QPAe"
      },
      "execution_count": null,
      "outputs": []
    },
    {
      "cell_type": "code",
      "source": [
        "Q11\n",
        "Predict Day?\n",
        "Send Feedback\n",
        "July 1, 1777 was Monday. What day of the week was it on July 1, 1778?\n",
        "\n",
        "Options\n",
        "Monday\n",
        "Tuesday \n",
        "Wednesday\n",
        "Sunday\n",
        "Correct Answer\n",
        "Solution Description\n",
        "As 1777 is not a leap year hence, it has 1 odd day. So July 1, 1778 was one day ahead of the day on July 1, 178. \n",
        "Hence it was Tuesday on July 1, 1778."
      ],
      "metadata": {
        "id": "16u8yY6WQPKr"
      },
      "execution_count": null,
      "outputs": []
    },
    {
      "cell_type": "code",
      "source": [
        "Q12\n",
        "Which day?\n",
        "Send Feedback\n",
        "January 1, 2000 was Sunday. What day of the week was it on January 1, 2001?\n",
        "\n",
        "Options\n",
        "Monday\n",
        "Tuesday \n",
        "Saturday\n",
        "Sunday\n",
        "Correct Answer\n",
        "Solution Description\n",
        "2000 is a leap year hence it has two odd days. Hence, it was Tuesday on January 1, 2001."
      ],
      "metadata": {
        "id": "7DhTQTKuQPUZ"
      },
      "execution_count": null,
      "outputs": []
    },
    {
      "cell_type": "code",
      "source": [
        "Q13\n",
        "Predict Day Of Week?\n",
        "Send Feedback\n",
        "1st Nov, 2003was Sunday. What day of the week was it on 1stDec. 2004?\n",
        "\n",
        "Options\n",
        "Thursday \n",
        "Sunday\n",
        "Tuesday\n",
        "Friday\n",
        "Correct Answer\n",
        "Solution Description\n",
        "2004 is a leap year hence if 1 November 2003 was Sunday then 1 November 2004 was Sunday+ 2 more days= Tuesday. \n",
        "There are 30 days between 1 November and 1 December. 30 days = 4×7+2.\n",
        "Hence day on 1 December 2004 is Tuesday+ 2= Thursday."
      ],
      "metadata": {
        "id": "PkmsMyBkQPeY"
      },
      "execution_count": null,
      "outputs": []
    },
    {
      "cell_type": "code",
      "source": [
        "Q14\n",
        "Day Of June?\n",
        "Send Feedback\n",
        "5th June, 2015 was Monday. What was the day of the week on 6th June, 2014?\n",
        "\n",
        "\n",
        "Options\n",
        "Sunday\n",
        "Saturday\n",
        "Tuesday\n",
        "Monday \n",
        "Correct Answer\n",
        "Solution Description\n",
        "As 2015 is not a leap year so day on 5 June 2015= Day on 5 June 2014 + 1\n",
        "Day on 5 June 2014 + 1= Day on 6th June 2015.\n",
        "Day on 5th June 2015= Day on 6th June 2014= Monday."
      ],
      "metadata": {
        "id": "TY6SWMIAQPnO"
      },
      "execution_count": null,
      "outputs": []
    },
    {
      "cell_type": "code",
      "source": [
        "Q15\n",
        "15 August Day\n",
        "Send Feedback\n",
        "What was the day on 15 August 1948?\n",
        "\n",
        "Options\n",
        "Friday\n",
        "Saturday\n",
        "Sunday \n",
        "Monday\n",
        "Correct Answer\n",
        "Solution Description\n",
        "Odd days in 1600 years = 0 \n",
        "\n",
        " \n",
        "\n",
        "Odd days in 300 years = 1\n",
        "\n",
        " \n",
        "\n",
        "47 years = (36 ordinary years + 11 leap years) = (36 x 1 + 11x 2)= 58(8 weeks + 2 days) = 2 odd day \n",
        "\n",
        " \n",
        "\n",
        "Jan.   Feb.   Mar.   Apr.   May.   Jun.   Jul.   Aug \n",
        "\n",
        " \n",
        "\n",
        "( 31 + 29 + 31 + 30 + 31 + 30 + 31 + 15 ) = 228 days = (32 weeks +  4 days) = 4 odd days.\n",
        "\n",
        " \n",
        "\n",
        "Total number of odd days = (0 + 1 + 2 + 4) = 7 odd days. \n",
        "\n",
        " \n",
        "\n",
        " \n",
        "\n",
        "Hence, as the number of odd days = 7, given day is Sunday."
      ],
      "metadata": {
        "id": "N-7-jY2bQPwG"
      },
      "execution_count": null,
      "outputs": []
    },
    {
      "cell_type": "code",
      "source": [
        "Q16\n",
        "Predict Dates?\n",
        "Send Feedback\n",
        "On what dates of January, 2015 did Sunday fall?\n",
        "\n",
        "\n",
        "Options\n",
        "3rd, 10th, 17th, 24th, 31st\n",
        "5th, 12th, 19th, 26th\n",
        "1st, 8th, 15th, 22nd, 29th\n",
        "4th, 11th, 18th, 25th \n",
        "Correct Answer\n",
        "Solution Description\n",
        "2014: 2000 years+ 11 ordinary years+ 3 leap years= 11 odd days+ 6 odd days= 17 odd days or 3 odd days.\n",
        "1st January 2015: 3+ 1= 4 odd days.\n",
        "Hence, it was Thursday on 1st January 2015. Therefore Sunday fell on 4th, 11th, 18th, 25th  January."
      ],
      "metadata": {
        "id": "8Bgf404UQP5l"
      },
      "execution_count": null,
      "outputs": []
    },
    {
      "cell_type": "code",
      "source": [
        "Q17\n",
        "\n",
        "Day Of Week again?\n",
        "Send Feedback\n",
        "What was the day of the week on 25th June, 2016?\n",
        "\n",
        "Options\n",
        "Thursday\n",
        "Monday\n",
        "Saturday \n",
        "Sunday\n",
        "Correct Answer\n",
        "Solution Description\n",
        "2015= 2000 years+ 3 leap years+ 12 ordinary years= 3×2+12=18 odd days or 4 odd days.\n",
        "1 January to 25 June= 31+ 29+ 31+ 30+ 31+ 25 or 3+ 1+ 3+ 2+ 3+ 4= 16 odd days or 2 odd days.\n",
        "Therefore total number of odd days= 4 + 2= 6 odd days.\n",
        "Hence it was Saturday on 25th June 2016."
      ],
      "metadata": {
        "id": "zoc5ZsNvQQCs"
      },
      "execution_count": null,
      "outputs": []
    },
    {
      "cell_type": "code",
      "source": [
        "Q18\n",
        "After few days?\n",
        "Send Feedback\n",
        "Today is Monday. After 76 days, it will be\n",
        "\n",
        "Options\n",
        "Saturday\n",
        "Sunday \n",
        "Monday\n",
        "Tuesday\n",
        "Correct Answer\n",
        "Solution Description\n",
        "76= 7×10+6 days. Hence, if today is Monday then after 76 days it will be Monday+ 6= Sunday"
      ],
      "metadata": {
        "id": "F98baGQaQQL7"
      },
      "execution_count": null,
      "outputs": []
    },
    {
      "cell_type": "code",
      "source": [
        "Q19\n",
        "Leap Year\n",
        "Send Feedback\n",
        "Which of the following is not a leap year?\n",
        "Options\n",
        "1782 \n",
        "1888\n",
        "1616\n",
        "2004\n",
        "Correct Answer\n",
        "Solution Description\n",
        "As 1782 is not divisible by 4 hence it is not a leap year."
      ],
      "metadata": {
        "id": "rIEaMHfWoZ2P"
      },
      "execution_count": null,
      "outputs": []
    },
    {
      "cell_type": "code",
      "source": [
        "Q20\n",
        "Maximum Days\n",
        "Send Feedback\n",
        "Maximum number of days in 10 consecutive years is:\n",
        "\n",
        "Options\n",
        "3650\n",
        "3652\n",
        "3654\n",
        "3653 \n",
        "Correct Answer\n",
        "Solution Description\n",
        "10 consecutive years have maximum days if these years consists maximum possible number of leap year. \n",
        "In 10 consecutive years maximum number of leap years = 3 (1st, 5th, 9th or 2nd, 6th& 10th).\n",
        "Maximum possible number of days in 10 years= 3×366+7×365=3653 days."
      ],
      "metadata": {
        "id": "f5-uuaM-oaC0"
      },
      "execution_count": null,
      "outputs": []
    }
  ]
}