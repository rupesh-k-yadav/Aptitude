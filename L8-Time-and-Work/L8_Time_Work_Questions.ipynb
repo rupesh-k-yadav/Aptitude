{
  "nbformat": 4,
  "nbformat_minor": 0,
  "metadata": {
    "colab": {
      "name": "L8-Time-Work_Questions.ipynb",
      "provenance": []
    },
    "kernelspec": {
      "name": "python3",
      "display_name": "Python 3"
    },
    "language_info": {
      "name": "python"
    }
  },
  "cells": [
    {
      "cell_type": "code",
      "source": [
        "Q1\n",
        "Days Taken By A\n",
        "Send Feedback\n",
        "A can do a piece of work in 12 days and B in 15 days. They work together for 5 days and then B left. \n",
        "The days taken by A to finish the remaining work is\n",
        "\n",
        "Options\n",
        "3 \n",
        "5\n",
        "10\n",
        "12\n",
        "Correct Answer\n",
        "Solution Description\n",
        "Let the total work be LCM of 12 & 15= 180.\n",
        "\n",
        "Efficiency of A= 180/12= 15\n",
        "\n",
        "Efficiency of B= 180/15=12\n",
        "\n",
        "Total work done by A & B in first five days= (15+ 12)*5= 135.\n",
        "\n",
        "Time taken by A to finish the remaining work= (180-135)/15=45/15=3 days. Hence, option (1) is correct."
      ],
      "metadata": {
        "id": "2tLb5PGOsZCk"
      },
      "execution_count": null,
      "outputs": []
    },
    {
      "cell_type": "code",
      "source": [
        "Q2\n",
        "B Alone Days\n",
        "Send Feedback\n",
        "A and B can do a piece of work in 20 days. A alone can do it in 24 days then in how many days can B alone do it?\n",
        "\n",
        "Options\n",
        "120 \n",
        "60\n",
        "100\n",
        "30\n",
        "Correct Answer\n",
        "Solution Description\n",
        " (A+B)’s 1 day work=(1/20),\n",
        "\n",
        " A’s 1 day work=(1/24) \n",
        "\n",
        "so B’s 1 day work= (1/20)-(1/24)=(1/120). \n",
        "\n",
        "Hence no. of days=120.\n",
        "\n",
        "Hence, option (a) is correct."
      ],
      "metadata": {
        "id": "zPk_Naffsf6x"
      },
      "execution_count": null,
      "outputs": []
    },
    {
      "cell_type": "code",
      "source": [
        "Q3\n",
        "Total Time Together\n",
        "Send Feedback\n",
        "A, B and C can do a work separately in 16, 32 and 48 days respectively. \n",
        "Total time taken by A, B and C together to finish the job?\n",
        "\n",
        "Options\n",
        "10.67 days\n",
        "9.33 days\n",
        "12.33 days\n",
        "8.72 days \n",
        "Correct Answer\n",
        "Solution Description\n",
        "Let the total work be LCM of (16, 32, 48)= 96\n",
        "\n",
        "Efficiency of A= 96/16= 6\n",
        "\n",
        "Efficiency of B= 96/32= 3\n",
        "\n",
        "Efficiency of C= 96/48= 2\n",
        "\n",
        "Total efficiency= 6+ 3+ 2= 11\n",
        "\n",
        "Total time taken by A, B and C together to complete the work=96/11= 8.72 days."
      ],
      "metadata": {
        "id": "St-FvvPesgDI"
      },
      "execution_count": null,
      "outputs": []
    },
    {
      "cell_type": "code",
      "source": [
        "Q4\n",
        "Tank Empty Time\n",
        "Send Feedback\n",
        "Two pipes can fill a tank with water in 15 and 12 hours respectively and a third pipe can empty it in 4 hours. \n",
        "If the pipes be opened in order at 8, 9 and 11 a.m. respectively, the tank will be emptied at\n",
        "\n",
        "Options\n",
        "11 : 40 am\n",
        "12 : 40 pm\n",
        "1:40 pm\n",
        "2 : 40 pm \n",
        "Correct Answer\n",
        "Solution Description\n",
        "Let the capacity of the tank = LCM of (15, 12, 4)= 60 liters.\n",
        "\n",
        "1st pipe= 60/15= 4 liters per minute.\n",
        "\n",
        "2nd pipe= 60/12= 5 liters per minute.\n",
        "\n",
        "3rd pipe= 60/4= 15 liters per minute.\n",
        "\n",
        "At 11 A.M.Tank filled by 3×4 +2×5=22 liters.\t\n",
        "\n",
        "At 11 A.M. all the three pipes are open 4+ 5- 15= -6 liters.\n",
        "\n",
        "Tank will be emptied 22/6= 3 hours 40 minutes after 11 AM. \n",
        "\n",
        "Hence, tank will be emptied by 2: 40 PM. Hence, option (4) is correct."
      ],
      "metadata": {
        "id": "6POo89wHsgK4"
      },
      "execution_count": null,
      "outputs": []
    },
    {
      "cell_type": "code",
      "source": [
        "Q5\n",
        "People Efficiency\n",
        "Send Feedback\n",
        "If 10 people can do a job in 20 days, then 20 people with twice the efficiency can do the same job in\n",
        "\n",
        "Options\n",
        "5 days \n",
        "10 days\n",
        "20 days\n",
        "40 days\n",
        "Correct Answer\n",
        "Solution Description\n",
        "Number of people and efficiency both got twice hence required number of days= 20/(2×2)=5 days. Hence, option 1 is correct."
      ],
      "metadata": {
        "id": "Fwkpilc9sgOd"
      },
      "execution_count": null,
      "outputs": []
    },
    {
      "cell_type": "code",
      "source": [
        "Q6\n",
        "Days To Complete Work\n",
        "Send Feedback\n",
        "If 72 men can build a wall of 280 m length in 21 days, \n",
        "how many men could take 18 days to build a similar type of wall of length 100 m?\n",
        "\n",
        "\n",
        "Options\n",
        "30 \n",
        "10\n",
        "18\n",
        "28\n",
        "Correct Answer\n",
        "Solution Description\n",
        "72×21 men-days= 280 m\n",
        "\n",
        "Let 'x' men took 18 days to build the similar type of wall of length 100m.\n",
        "\n",
        "72×21 men-days= 280 m\n",
        "\n",
        "18×4×21men-days=280\n",
        "\n",
        "18×30 men-days=100 m\n",
        "\n",
        "Hence the required answer must be 30 men. Hence, option (1) is correct."
      ],
      "metadata": {
        "id": "JIKiYzjcM3u6"
      },
      "execution_count": null,
      "outputs": []
    },
    {
      "cell_type": "code",
      "source": [
        "Q7\n",
        "Days To Complete Work\n",
        "Send Feedback\n",
        "12 workers can do a piece of work in 300 days. At the end of 150 days, \n",
        "the number of workers employed is doubled. So in how many more days will the work be completed?\n",
        "\n",
        "Options\n",
        "50 days\n",
        "75 days \n",
        "60 days\n",
        "80 days\n",
        "Correct Answer\n",
        "Solution Description\n",
        "If x is the no. of more days taken to complete the work then according to the concept:\n",
        "\n",
        "12×300-12×150=24x\n",
        "\n",
        "By solving we get x=75 days."
      ],
      "metadata": {
        "id": "d98-WcI_M30k"
      },
      "execution_count": null,
      "outputs": []
    },
    {
      "cell_type": "code",
      "source": [
        "Q8\n",
        "Men To Be Employed\n",
        "Send Feedback\n",
        "Seventy-five men are employed to lay down a railway line in 3 months. Due to certain emergency conditions, \n",
        "the work was to be finished in 18 days. How many more men should be employed to complete the work in the desired time?\n",
        "\n",
        "Options\n",
        "300 \n",
        "325\n",
        "350\n",
        "r375\n",
        "Correct Answer\n",
        "Solution Description\n",
        "Total work= 75×3 men-months or 75 x 90 men days\n",
        "\n",
        "Let ‘x’ more men employed to finish the work in 18 days.\n",
        "\n",
        "75×90=(75+x)*18 \n",
        "\n",
        "On solving, we get: x= 300. Hence, option (1) is correct.\n"
      ],
      "metadata": {
        "id": "5THumdTZcYGo"
      },
      "execution_count": null,
      "outputs": []
    },
    {
      "cell_type": "code",
      "source": [
        "Q9\n",
        "Same Piece Of Work\n",
        "Send Feedback\n",
        "If 4 men or 8 women can do a piece of work in 15 days, \n",
        "in how many days can 6 men and 12women do the same piece of work ?\n",
        "\n",
        "Options\n",
        "20 days\n",
        "5 days \n",
        "15 days\n",
        "30 days\n",
        "Correct Answer\n",
        "Solution Description\n",
        "Let the efficiencies of 1 man and 1 woman be ‘m’ and ‘w’.\n",
        "\n",
        "4m=8w \n",
        "\n",
        "m= 2w OR w= m/2.\n",
        "\n",
        "Total work= 4m×15=60m.\n",
        "\n",
        "Let 6 men and 12 women did the same job in ‘x’ days.\n",
        "\n",
        "(6m+12w)*x=60m \n",
        "(6m+6m)*x=60m \n",
        "x=5 days.\n",
        "Hence, option 2 is correct."
      ],
      "metadata": {
        "id": "mHVgv8WBcYSc"
      },
      "execution_count": null,
      "outputs": []
    },
    {
      "cell_type": "code",
      "source": [
        "Q10\n",
        "Finish Work\n",
        "Send Feedback\n",
        "3 men and 4 boys can complete a piece of work in 12 days. 4 men and 3 boys can do the same work in 10 days. \n",
        "Then 2 men and 3 boys can finish the work in number of days is\n",
        "\n",
        "Options\n",
        "35/2 days \n",
        "60/11 days\n",
        "8 days\n",
        "22 days\n",
        "Correct Answer\n",
        "Solution Description\n",
        " If the efficiencies of 1 man and 1 boy be m and b respectively then\n",
        "\n",
        " According to the question: 12(3 m + 4 b)= 10(4 m+ 3 b)\n",
        "\n",
        "\t 36 m + 48 b = 40 m + 30 b\n",
        "\t 4 m = 18 b\n",
        "\t 2 m = 9 b\n",
        "\t∴ 4 m + 3 b = 18b+ 3b= 21 b\n",
        "\t        Total work= 210b. \n",
        "\t2men and 3 boys= 2m+3b=9b+3b=12b\n",
        "\t\t21b * 10 = 12b * d\n",
        "\td= (21×10)/12=35/2 "
      ],
      "metadata": {
        "id": "_HG3BzsmcYWR"
      },
      "execution_count": null,
      "outputs": []
    }
  ]
}