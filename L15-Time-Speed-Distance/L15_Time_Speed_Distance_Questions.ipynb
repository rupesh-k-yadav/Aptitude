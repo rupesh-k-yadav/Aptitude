{
  "nbformat": 4,
  "nbformat_minor": 0,
  "metadata": {
    "colab": {
      "name": "L15-Time-Speed-Distance_Questions.ipynb",
      "provenance": []
    },
    "kernelspec": {
      "name": "python3",
      "display_name": "Python 3"
    },
    "language_info": {
      "name": "python"
    }
  },
  "cells": [
    {
      "cell_type": "code",
      "source": [
        "Q1\n",
        "Conversion\n",
        "Send Feedback\n",
        "5km/hr=?\n",
        "\n",
        "Options\n",
        "25/6 m/s\n",
        "50/3 m/s\n",
        "25/18 m/s \n",
        "25/4 m/s\n",
        "Correct Answer\n",
        "Solution Description\n",
        "5 km/hr= 5×5/18=25/18 m/s"
      ],
      "metadata": {
        "id": "2tLb5PGOsZCk"
      },
      "execution_count": null,
      "outputs": []
    },
    {
      "cell_type": "code",
      "source": [
        "Q2\n",
        "Calculate Speed\n",
        "Send Feedback\n",
        "An athlete runs 200 metres race in 24 seconds. His speed (in km/ hr) is :\n",
        "\n",
        "Options\n",
        "20\n",
        "24\n",
        "28.5\n",
        "30 \n",
        "Correct Answer\n",
        "Solution Description\n",
        "200 meters= 0.2 km\n",
        "24 seconds= 24/(60×60) hours\n",
        "Required speed= 0.2/(24/(60×60))=30 km/hr. Hence, option (d) is correct."
      ],
      "metadata": {
        "id": "zPk_Naffsf6x"
      },
      "execution_count": null,
      "outputs": []
    },
    {
      "cell_type": "code",
      "source": [
        "Q3\n",
        "Calculate Time\n",
        "Send Feedback\n",
        "If a man covers 100 km in 10 hours, then how much time would he take to cover 150 km distance at the same speed?\n",
        "\n",
        "Options\n",
        "15 hours \n",
        "20 hours\n",
        "12 hours\n",
        "None Of These\n",
        "Correct Answer\n",
        "Solution Description\n",
        "As the speed is constant, hence time is directly proportional to distance.\n",
        "100/150=10/t on solving we get t= 15 hours."
      ],
      "metadata": {
        "id": "St-FvvPesgDI"
      },
      "execution_count": null,
      "outputs": []
    },
    {
      "cell_type": "code",
      "source": [
        "Q4\n",
        "Time To Cover Distance\n",
        "Send Feedback\n",
        "A man covers a particular distance in 10 hours at a speed of 20 kmph. \n",
        "If he increases his speed by 50% then in what time would he take to cover the same distance?\n",
        "\n",
        "Options\n",
        "6.67 hours \n",
        "7 hours\n",
        "8 hours\n",
        "None Of These\n",
        "Correct Answer\n",
        "Solution Description\n",
        "As the distance is constant and\n",
        " speed ~ 1/time\n",
        "Speed 1/ Speed 2= Time 2/ Time 1\n",
        "20/30= time 2/10\n",
        "Time 2= 20/3= 6.67 hours. Hence, option (a) is correct."
      ],
      "metadata": {
        "id": "6POo89wHsgK4"
      },
      "execution_count": null,
      "outputs": []
    },
    {
      "cell_type": "code",
      "source": [
        "Q5\n",
        "How early will reach?\n",
        "Send Feedback\n",
        "If a man walks 20 km at 5 km/ hr, he will be late by 40 minutes. If he walks at 8 km/hr, how early from the fixed time will he reach?\n",
        "\n",
        "Options\n",
        "15 minutes\n",
        "25 minutes\n",
        "50 minutes \n",
        "1.5 hours\n",
        "Correct Answer\n",
        "Solution Description\n",
        "Let the correct time to reach at ‘t’ minutes.\n",
        "t= 20/5-40/60= 4-2/3=10/3 hours or 200 minutes.\n",
        "Total time required to cover 20km at 8 kmph= 20/8= 2.5 hours = 150 minutes.\n",
        "Required time= 200- 150= 50 minutes. Hence, option (c) is correct."
      ],
      "metadata": {
        "id": "2-c59K6_FfnF"
      },
      "execution_count": null,
      "outputs": []
    },
    {
      "cell_type": "code",
      "source": [
        "Q6\n",
        "Distance To School\n",
        "Send Feedback\n",
        "A boy is late by 9 minutes if he walks to school at a speed of 4 km/hour. If he walks at the rate of 5 km/hour,\n",
        "he arrives 9 minutes early. The distance to his school is\n",
        "\n",
        "Options\n",
        "9 km\n",
        "5 km\n",
        "4 km\n",
        "6 km \n",
        "Correct Answer\n",
        "Solution Description\n",
        "Let the time taken by boy to reach school on time be ‘t’ hours.\n",
        "According to the question:\n",
        "4(t+ 9/60)= 5(t-9/60)\n",
        "t= 36/60+45/60=81/60 hours.\n",
        "Required distance= 4(t+ 9/60)=4(81/60+9/60)=4×90/60=6 km. Hence, option (d) is correct. "
      ],
      "metadata": {
        "id": "ZXNBHtDVFft-"
      },
      "execution_count": null,
      "outputs": []
    },
    {
      "cell_type": "code",
      "source": [
        "Q7\n",
        "Distance Between A and B\n",
        "Send Feedback\n",
        "A train covers a distance between station A and station B in 45 minutes. \n",
        "If the speed of the train is reduced by 5 km/hr, then the same distance is covered in 48 minutes. The distance between station A and B is\n",
        "\n",
        "Options\n",
        "60 km \n",
        "64 km\n",
        "80 km\n",
        "55 km\n",
        "Correct Answer\n",
        "Solution Description\n",
        "Let the distance between Station A and B be ‘d’ km and the original velocity of the train be ‘v’ kmph.\n",
        "According to the question:\n",
        "d/v=45/60 or v=(4/3)*d and d/(v-5)=48/60 or v-5=5d/4\n",
        "On solving the above two equations we get: d=60 km. Hence, option (a) is correct.      "
      ],
      "metadata": {
        "id": "jnRM9Us6Ffyh"
      },
      "execution_count": null,
      "outputs": []
    },
    {
      "cell_type": "code",
      "source": [
        "Q8\n",
        "Time of Apart\n",
        "Send Feedback\n",
        "Two persons ride towards each other from two places 55 km apart, one riding at 12km/hr and the other at 10 km/hr. In what time will they be 11 km apart?\n",
        "\n",
        "Options\n",
        "2 hours and 30 minutes\n",
        "1 hour and 30 minutes\n",
        "2 hours \n",
        "2 hours and 45 minutes\n",
        "Correct Answer\n",
        "Solution Description\n",
        "Relative speed of two persons= 12+ 10= 22 kmph.\n",
        "Relative distance covered by them= 55- 11= 44 km.\n",
        "Required time= 44/22= 2 hours. Hence, option (c) is correct."
      ],
      "metadata": {
        "id": "O3miGISjQOoG"
      },
      "execution_count": null,
      "outputs": []
    },
    {
      "cell_type": "code",
      "source": [
        "Q9\n",
        "Time When They Meet\n",
        "Send Feedback\n",
        "The distance between two cities A and B is 330 km. A train starts from A at 8 a.m. and travelstowards B at 60 km/hr. \n",
        "Another train starts from B at 9 a.m. and travels towards A at 75 km/hr. At what time do they meet?\n",
        "\n",
        "Options\n",
        "10 a.m.\n",
        "10 30 a.m\n",
        "11 a.m. \n",
        "11 30 a.m\n",
        "Correct Answer\n",
        "Solution Description\n",
        "At 9 A.M. distance between two trains= 330- 60=270 km\n",
        "\n",
        "Relative speed of both trains= 60+ 75=135 km/hr.\n",
        "\n",
        "Now, both trains would meet after 270/135= 2 hours. Hence, option (c) is correct."
      ],
      "metadata": {
        "id": "9xVWZcGaQO2Q"
      },
      "execution_count": null,
      "outputs": []
    },
    {
      "cell_type": "code",
      "source": [
        "Q10\n",
        "Speed Of Truck\n",
        "Send Feedback\n",
        "A bus moving at a speed of 45 km/hr overtakes a truck 150 metres ahead going in the same direction in 30 seconds. The speed of the truck is\n",
        "\n",
        "Options\n",
        "27 km/hr \n",
        "24 km/hr\n",
        "25 km/hr\n",
        "28 km/hr\n",
        "Correct Answer\n",
        "Solution Description\n",
        "Relative speed of Bus and Truck= 150/30= 5 m/s or 18 kmph.\n",
        "Speed of bus- speed of truck= 18\n",
        "45- Speed of truck= 18\n",
        "Speed of truck= 45- 18= 27 kmph. Hence, option (a) is correct."
      ],
      "metadata": {
        "id": "hyorEJR-QPAe"
      },
      "execution_count": null,
      "outputs": []
    },
    {
      "cell_type": "code",
      "source": [
        "Q11\n",
        "Time Required\n",
        "Send Feedback\n",
        "The distance between two cities A and B is 100km. and the speeds of Ram and Anuj are 15 km/h and 25km/h respectively. \n",
        "Initially both are at A and start moving toward B. If they move between A and B to and fro then answer the question:\n",
        "Find the time required for the 1st meeting.\n",
        "\n",
        "Options\n",
        "3h\n",
        "4h\n",
        "5h \n",
        "None Of These\n",
        "Correct Answer\n",
        "Solution Description\n",
        "The total distance covered by Anuj and Ram at the 1st meeting= 200km.\n",
        "\n",
        "Combined speed of Anuj and Ram = 15km/h+ 25km/h= 40km/h\n",
        "\n",
        "Time required for the 1st meeting = 200/ 40 = 5 h. Hence, option (c) is correct."
      ],
      "metadata": {
        "id": "16u8yY6WQPKr"
      },
      "execution_count": null,
      "outputs": []
    },
    {
      "cell_type": "code",
      "source": [
        "Q12\n",
        "Distance Covered\n",
        "Send Feedback\n",
        "The distance between two cities A and B is 100km. and the speeds of Ram and Anuj are 15 km/h and 25km/h respectively. \n",
        "Initially both are at A and start moving toward B. If they move between A and B to and fro then answer the question:\n",
        "Distance covered by Anuj in 1st meeting.\n",
        "\n",
        "Options\n",
        "125 km \n",
        "150 km\n",
        "250 km\n",
        "None Of These\n",
        "Correct Answer\n",
        "Solution Description\n",
        "#### Distance covered by Anuj in 1st meeting = 25×5=125km. Hence, option (a) is correct."
      ],
      "metadata": {
        "id": "7DhTQTKuQPUZ"
      },
      "execution_count": null,
      "outputs": []
    },
    {
      "cell_type": "code",
      "source": [
        "Q13\n",
        "Ratio Of Distance\n",
        "Send Feedback\n",
        "The distance between two cities A and B is 100km. and the speeds of Ram and Anuj are 15 km/h and 25km/h respectively. \n",
        "Initially both are at A and start moving toward B. If they move between A and B to and fro then answer the question:\n",
        "Ratio of distance covered at the 4th meeting.\n",
        "\n",
        "Options\n",
        "2:3\n",
        "3:5 \n",
        "2:5\n",
        "None Of These\n",
        "Correct Answer\n",
        "Solution Description\n",
        "Ratio of distance covered by Ram and Anuj is always in the ratio of their speeds. So the required ratio = 15: 25 = 3: 5. Hence, option (b) is correct."
      ],
      "metadata": {
        "id": "PkmsMyBkQPeY"
      },
      "execution_count": null,
      "outputs": []
    },
    {
      "cell_type": "code",
      "source": [
        "Q14\n",
        "Time Required\n",
        "Send Feedback\n",
        "The distance between two cities A and B is 100km and the speeds of Ram and Anuj are 15 km/h and 25km/h respectively. \n",
        "Initially Ram is at A & Anuj is at B. If they move between A and B to and from then answer the question:\n",
        "The time required for the 1st meeting.\n",
        "\n",
        "Options\n",
        "2h\n",
        "1h\n",
        "3h\n",
        "None Of These \n",
        "Correct Answer\n",
        "Solution Description\n",
        "Distance covered by Ram and Anuj together till the 1st meeting = 100km\n",
        "\n",
        "Total combined speed of Ram and Anuj = 15kmph + 25kmph = 40kmph\n",
        "\n",
        "Total time required for the 1st meeting = 100/40 = 2.5 hours. Hence, option (d) is correct."
      ],
      "metadata": {
        "id": "TY6SWMIAQPnO"
      },
      "execution_count": null,
      "outputs": []
    },
    {
      "cell_type": "code",
      "source": [
        "Q15\n",
        "Distance Covered By Anuj\n",
        "Send Feedback\n",
        "The distance between two cities A and B is 100km and the speeds of Ram and Anuj are 15 km/h and 25km/h respectively. \n",
        "Initially Ram is at A & Anuj is at B. If they move between A and B to and from then answer the following questions:\n",
        "Distance covered by Anuj till the 3rd meeting.\n",
        "\n",
        "Options\n",
        "250 km. \n",
        "212.5 km\n",
        "187.5km\n",
        "181.5km.\n",
        "Correct Answer: 250KM"
      ],
      "metadata": {
        "id": "N-7-jY2bQPwG"
      },
      "execution_count": null,
      "outputs": []
    },
    {
      "cell_type": "code",
      "source": [
        "Q16\n",
        "Meet for The First Time\n",
        "Send Feedback\n",
        "A and B are running on a circular track of length 1000 m. Speed of A is 25 m/s and speed of B is 10 m/s. \n",
        "They start from the same point at the same time in the opposite directions. When will they meet for the first time at the starting point again?\n",
        "\n",
        "Options\n",
        "200 s \n",
        "100 s\n",
        "50 s\n",
        "250 s\n",
        "Correct Answer\n",
        "Solution Description\n",
        " Time taken by A to complete one round= 1000/25= 40 s\n",
        "\n",
        "Time taken by B to complete one round= 1000/10= 100 s\n",
        "\n",
        "First meeting at the starting point will happen after LCM of 40 and 100= 200 s.\n",
        "\n",
        "Hence they will meet after 200 s. hence, option (a) is correct."
      ],
      "metadata": {
        "id": "8Bgf404UQP5l"
      },
      "execution_count": null,
      "outputs": []
    },
    {
      "cell_type": "code",
      "source": [
        "Q17\n",
        "When they be together\n",
        "Send Feedback\n",
        "A, B and C run on a circular path at a speed of 5 m/s, 10 m/s, 20 m/s ,A and B are moving in the same direction and C in the opposite direction. \n",
        "The circumference of the path is 6 km. If they start from the same point at the same time then when will they be together again for the 1st time?\n",
        "\n",
        "Options\n",
        "1200 s \n",
        "400 s\n",
        "800 s\n",
        "200 s\n",
        "Correct Answer\n",
        "Solution Description\n",
        "C meets B after every = 6000/(20+10)=200 s\n",
        "C meets A after every = 6000/(20+5)=240 s\n",
        "Therefore they will meet each other for the 1st time after= LCM (200, 240) = 1200 s\n",
        "Hence, option (a) is correct."
      ],
      "metadata": {
        "id": "zoc5ZsNvQQCs"
      },
      "execution_count": null,
      "outputs": []
    },
    {
      "cell_type": "code",
      "source": [
        "Q18\n",
        "For the first time\n",
        "Send Feedback\n",
        "A, B and C run on a circular path at a speed of 5 m/s, 10 m/s, 20 m/s ,A and B are moving in the same direction and C in the opposite direction. \n",
        "The circumference of the path is 6 km. When will they be together again for the 1st time at the starting point?\n",
        "\n",
        "Options\n",
        "1200s \n",
        "400s\n",
        "800s\n",
        "200s\n",
        "Correct Answer\n",
        "Solution Description\n",
        "Time taken by A to complete one round = 6000/5=1200 s\n",
        "Time taken by B to complete one round = 6000/10=600 s\n",
        "Time taken by C to complete one round = 6000/20=300 s\n",
        "So they will be together again for the 1st time at the starting point after:  LCM (1200, 600, 300) = 1200 s. Hence, option (a) is correct."
      ],
      "metadata": {
        "id": "F98baGQaQQL7"
      },
      "execution_count": null,
      "outputs": []
    }
  ]
}