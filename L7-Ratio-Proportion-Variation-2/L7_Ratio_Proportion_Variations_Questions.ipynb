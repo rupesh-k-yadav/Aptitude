{
  "nbformat": 4,
  "nbformat_minor": 0,
  "metadata": {
    "colab": {
      "name": "L7-Ratio-Proportion-Variations_Questions.ipynb",
      "provenance": []
    },
    "kernelspec": {
      "name": "python3",
      "display_name": "Python 3"
    },
    "language_info": {
      "name": "python"
    }
  },
  "cells": [
    {
      "cell_type": "code",
      "source": [
        "Q1\n",
        "Coins Of Denominations\n",
        "Send Feedback\n",
        "A boy has a few coins of denominations 50 paise, 25 paise and 10 paise in the such a way \n",
        "that 6 times the number of 50 paise coins is equal to three times of 25 paise coins and two times of 10 paise coins. \n",
        "If the total amount of the coins is Rs. 6.50, the number of 10 paise coins is\n",
        "\n",
        "Options\n",
        "5\n",
        "10\n",
        "15 \n",
        "20\n",
        "Correct Answer\n",
        "Solution Description\n",
        "According to the question: 6 times the number of 50 paise coins is equal to three times of 25 paise coins and two times of 10 paise coins.\n",
        "\n",
        "50 paise coins : 25 paise coins: 10 paise coins= 1/6 : 1/3 : ½= 1: 2: 3\n",
        "\n",
        "Let the numbers of 50 paise, 25 paise and 10 paise are x, 2x and 3x.\n",
        "\n",
        "50x+25×2x+10×3x=650 \n",
        "\n",
        "130x=650 \n",
        "\n",
        "x=5 \n",
        "\n",
        "2x=10,\n",
        "\n",
        " 3x=15 \n",
        "\n",
        "Number of 10 paise= 15. Hence, option (c) is correct. "
      ],
      "metadata": {
        "id": "2tLb5PGOsZCk"
      },
      "execution_count": null,
      "outputs": []
    },
    {
      "cell_type": "code",
      "source": [
        "Q2\n",
        "Sum Of Runs\n",
        "Send Feedback\n",
        "A team of four players scored 100 runs together. \n",
        "A scored half as many runs as B, C’s score was 1.5 times of B and D’s score was twice of B. \n",
        "Find the sum of runs scored by A and C.\n",
        "\n",
        "Options\n",
        "10\n",
        "30\n",
        "40 \n",
        "None Of These\n",
        "Correct Answer\n",
        "Solution Description\n",
        "let the runs scored by A, B, C and D were a, b, c and d respectively.\n",
        "\n",
        "a= b/2, c= 1.5b, d= 2b\n",
        "\n",
        "a: b: c: d= ½ : 1: 1.5: 2\n",
        "\n",
        "a: b: c: d= 1: 2: 3; 4\n",
        "\n",
        "Hence, the runs scored by A and C= 100×((1+3)/(1+2+3+4))=40."
      ],
      "metadata": {
        "id": "zPk_Naffsf6x"
      },
      "execution_count": null,
      "outputs": []
    },
    {
      "cell_type": "code",
      "source": [
        "Q3\n",
        "Vessels\n",
        "Send Feedback\n",
        "Two vessels A and B contain spirit and water mixed in the ratio 5:2 and 7:8 respectively. \n",
        "If the equal quantity of both mixtures are mixed in a vessel C then what would be the ratio of spirit and water in vessel C?\n",
        "\n",
        "Options\n",
        "44:62\n",
        "64:43\n",
        "62:43 \n",
        "None Of These\n",
        "Correct Answer\n",
        "Solution Description\n",
        "Solution: let the initial quantity of mixture in both vessels be 105 liters.\n",
        "\n",
        "In vessel A: Spirit= 55+2×105=75 liters. Water= 105- 75= 30 liters.\n",
        "\n",
        "In vessel B: Spirit= 77+8×105=49 liters. Water= 105- 49= 56 liters.\n",
        "\n",
        "Required ratio= 75+49:30+56=124:86=62:43\n",
        "\n",
        "Hence, option (c) is correct. "
      ],
      "metadata": {
        "id": "St-FvvPesgDI"
      },
      "execution_count": null,
      "outputs": []
    },
    {
      "cell_type": "code",
      "source": [
        "Q4\n",
        "Milk And Water\n",
        "Send Feedback\n",
        "The milk and water in two vessels A and B are in the ratio 4:3 and 2:3 respectively. \n",
        "If equal quantities of mixture from both vessels are taken in a different vessel C, \n",
        "then what is the ratio of milk and water in the vessel C?\n",
        "\n",
        "Options\n",
        "5:7\n",
        "7:5\n",
        "1/5:1/8\n",
        "17:18 \n",
        "Correct Answer\n",
        "Solution Description\n",
        "Let the initial quantity of mixture in both vessels be 35 liters.\n",
        "\n",
        "In vessel A: Spirit= 44+3×35=20 liters. Water= 35- 20= 15 liters.\n",
        "\n",
        "In vessel B: Spirit= 22+3×35=14 liters. Water= 35- 14= 21 liters.\n",
        "\n",
        "Required ratio= 20+14:15+21=34:36=17:18\n",
        "\n",
        "Hence, option (d) is correct. "
      ],
      "metadata": {
        "id": "6POo89wHsgK4"
      },
      "execution_count": null,
      "outputs": []
    },
    {
      "cell_type": "code",
      "source": [
        "Q5\n",
        "Ratio Of Incomes\n",
        "Send Feedback\n",
        "The ratio of incomes of Piku and Qasim is 3:4 and the ratio of their expenditures is 2:3. \n",
        "If both of them save Rs6000, the income of Piku is\n",
        "\n",
        "Options\n",
        "Rs 20000\n",
        "Rs 12000\n",
        "Rs 18000 \n",
        "Rs 24000\n",
        "Correct Answer\n",
        "Solution Description\n",
        "Let the incomes of Piku and Qasim be Rs3x and 4x respectively.\n",
        "\n",
        "Again, let their expenditures be Rs2y and 3y respectively.\n",
        "\n",
        "According to the question,\n",
        "\n",
        "3x – 2y = 6000\t…(i)and\n",
        "\n",
        "4x – 3y = 6000\t…(ii)\n",
        "\n",
        "From equations (i) and (ii)\n",
        "\n",
        "3x – 2y = 4x – 3y\n",
        "\n",
        "or, 4x – 3x = 3y – 2y\n",
        "\n",
        "or, x = y\n",
        "\n",
        "From equations (i)\n",
        "\n",
        "3x – 2x = 6000\n",
        "\n",
        "x = 6000\n",
        "\n",
        "The income of Piku = Rs3x = Rs(36000) = Rs18000"
      ],
      "metadata": {
        "id": "Fwkpilc9sgOd"
      },
      "execution_count": null,
      "outputs": []
    },
    {
      "cell_type": "code",
      "source": [
        "Q6\n",
        "Incomes of Abhay And Bishan\n",
        "Send Feedback\n",
        "The incomes of Abhay and Bishan are in the ratio 2:3 and their expenditures are in the ratio 1:2. \n",
        "If each saves Rs24,000, find A’s income?\n",
        "\n",
        "Options\n",
        "Rs 24000\n",
        "Rs 72000\n",
        "Rs 19200\n",
        "Rs 48000 \n",
        "Correct Answer\n",
        "Solution Description\n",
        "Let the incomes of Abhay and Bishan be Rs2x and Rs3x and their expenditures be Rs y and Rs 2y respectively.  \n",
        "\n",
        "∴ 2x – y = 24000\t…(i)\n",
        "\n",
        "And 3x – 2y = 24000\t…(ii)\n",
        "\n",
        "By equations (i)*2 – (ii)\n",
        "\n",
        "4x – 2y – 3x + 2y = 24000\n",
        "\n",
        "x = 24000\n",
        "\n",
        "∴ Abhay’s income = 2*24000 = Rs48000"
      ],
      "metadata": {
        "id": "JIKiYzjcM3u6"
      },
      "execution_count": null,
      "outputs": []
    },
    {
      "cell_type": "code",
      "source": [
        "Q7\n",
        "Ratio Of Initial And Final Values\n",
        "Send Feedback\n",
        "If x is directly proportional to y and x is increased by 30% then what would be the ratio of initial and final values of y?\n",
        "\n",
        "Options\n",
        "10:11\n",
        "10:13 \n",
        "5:7\n",
        "None Of These\n",
        "Correct Answer\n",
        "Solution Description\n",
        "x~y\n",
        "\n",
        "After increasing x by 30% the value of y would be increased proportionally. \n",
        "\n",
        "Required ratio= y: 1.3y= 1: 1.3=10: 13"
      ],
      "metadata": {
        "id": "d98-WcI_M30k"
      },
      "execution_count": null,
      "outputs": []
    },
    {
      "cell_type": "code",
      "source": [
        "Q8\n",
        "Ratio Of Values Of y\n",
        "Send Feedback\n",
        "If x is inversely proportional to y and x is increased by 10% then what would be the ratio of initial and final values of y?\n",
        "\n",
        "Options\n",
        "10:11\n",
        "10:13\n",
        "5:7\n",
        "11:10 \n",
        "Correct Answer\n",
        "Solution Description\n",
        "(x~1/y) or (y~1/x) \n",
        "y1:y2 =(1:(1/1.1))=1:(10/11)=11:10 \n",
        "Hence, option (d) is correct."
      ],
      "metadata": {
        "id": "5THumdTZcYGo"
      },
      "execution_count": null,
      "outputs": []
    },
    {
      "cell_type": "code",
      "source": [
        "Q9\n",
        "Distance Covered\n",
        "Send Feedback\n",
        "A train travels 10 km at a particular speed in a particular time. \n",
        "If speed is increased by 100% and time is reduced by 50% then find the distance covered by the train.\n",
        "\n",
        "Options\n",
        "10 km \n",
        "5 km\n",
        "15 km\n",
        "None Of These\n",
        "Correct Answer\n",
        "Solution Description\n",
        "Distance in directly proportional to speed and time.\n",
        "\n",
        "New speed= old speed+ 100% of old speed= Twice of the old speed\n",
        "\n",
        "Similarly new time= ½ of the old time.\n",
        "\n",
        "Distance= 2*Speed x ½ time= Speed x time= 10 km. Hence, option (a) is correct."
      ],
      "metadata": {
        "id": "mHVgv8WBcYSc"
      },
      "execution_count": null,
      "outputs": []
    },
    {
      "cell_type": "code",
      "source": [
        "Q10\n",
        "Find x?\n",
        "Send Feedback\n",
        "If x is directly proportional to y and x= 10 when y= 3, then find x when y= 9.\n",
        "\n",
        "Options\n",
        "3.33\n",
        "3\n",
        "30 \n",
        "None Of These\n",
        "Correct Answer\n",
        "Solution Description\n",
        "x~y \n",
        "\n",
        "x1:x2=y1:y2 \n",
        "\n",
        "10: x2= 3: 9\n",
        "\n",
        "x2= 30. Hence, option (c) is correct."
      ],
      "metadata": {
        "id": "_HG3BzsmcYWR"
      },
      "execution_count": null,
      "outputs": []
    },
    {
      "cell_type": "code",
      "source": [
        "Q11\n",
        "Find x when y is given?\n",
        "Send Feedback\n",
        "If x is inversely proportional to y and x= 100 when y= 10, then find x when y= 20.\n",
        "\n",
        "Options\n",
        "50 \n",
        "3\n",
        "30\n",
        "None Of These\n",
        "Correct Answer\n",
        "Solution Description\n",
        "x~1/y \n",
        "\n",
        "x1:x2=y2:y1\n",
        " \n",
        "100: x2= 20: 10\n",
        "\n",
        "x2= 50. Hence, option (a) is correct."
      ],
      "metadata": {
        "id": "4Dk3-iw3cYa0"
      },
      "execution_count": null,
      "outputs": []
    },
    {
      "cell_type": "code",
      "source": [
        "Q12\n",
        "Find value of B?\n",
        "Send Feedback\n",
        "A is directly proportional to the square of B. for A= 10, B= 50. Then, find the value of B, when A= 5.\n",
        "\n",
        "Options\n",
        "50\n",
        "25\n",
        "50/sqrt(2) \n",
        "None Of These\n",
        "Correct Answer\n",
        "Solution Description\n",
        "A~B^2 \n",
        "\n",
        "A1:A2=B1^2:B2^2 \n",
        "\n",
        "10: 5= 50^2:B2^2\n",
        "\n",
        "B2= 50/sqrt(2) "
      ],
      "metadata": {
        "id": "sMvX9QR_cYdj"
      },
      "execution_count": null,
      "outputs": []
    }
  ]
}