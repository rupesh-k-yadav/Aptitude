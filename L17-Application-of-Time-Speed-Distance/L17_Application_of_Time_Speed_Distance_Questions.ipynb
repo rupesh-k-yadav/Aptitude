{
  "nbformat": 4,
  "nbformat_minor": 0,
  "metadata": {
    "colab": {
      "name": "L17-Application-of-Time-Speed-Distance-Questions.ipynb",
      "provenance": []
    },
    "kernelspec": {
      "name": "python3",
      "display_name": "Python 3"
    },
    "language_info": {
      "name": "python"
    }
  },
  "cells": [
    {
      "cell_type": "code",
      "source": [
        "Q1\n",
        "Speed Of Train\n",
        "Send Feedback\n",
        "A train, 300m long, passed a man, walking along the line in the same direction at the rate of 3 km/hr in 33 seconds. The speed of the train is:\n",
        "\n",
        "Options\n",
        "30 km/hr\n",
        "32 km/hr\n",
        "(360/11) km/hr\n",
        "(393/11) km/hr \n",
        "Correct Answer\n",
        "Solution Description\n",
        "If the speed of the train be s km/hr, then relative speed = (s – 3)km/hr or  (s-3)*(5/18)m/sec\n",
        "∴300/(s-3)*(5/18)=33\n",
        "⇒5400=33×5(s-3)\n",
        "⇒11s-33=360⇒s=393/11 km/hr"
      ],
      "metadata": {
        "id": "2tLb5PGOsZCk"
      },
      "execution_count": null,
      "outputs": []
    },
    {
      "cell_type": "code",
      "source": [
        "Q2\n",
        "Find train speed?\n",
        "Send Feedback\n",
        "A train 100 metres long meets a man going in opposite direction at 5 km/hr and passes him in (36/5)seconds. What is the speed of the train in km/hr?\n",
        "\n",
        "Options\n",
        "45 km/hr \n",
        "60 km/hr\n",
        "55 km/hr\n",
        "50 km/hr\n",
        "Correct Answer\n",
        "Solution Description\n",
        "Speed of train = x km/hr\n",
        "Relative speed = (x + 5) km/hr\n",
        "Length of train = 100m=0.1 km.\n",
        "∴0.1/(x+5)=36/(5×60×60)\n",
        "1/(x+5)=1/50\n",
        "⇒x+5=50\n",
        "⇒x=45 km/hr "
      ],
      "metadata": {
        "id": "zPk_Naffsf6x"
      },
      "execution_count": null,
      "outputs": []
    },
    {
      "cell_type": "code",
      "source": [
        "Q3\n",
        "Speed passing telegraph post\n",
        "Send Feedback\n",
        "A train, 120 m long, takes 6 seconds to pass a telegraph post, the speed of train is\n",
        "\n",
        "Options\n",
        "72 km/hr \n",
        "62 km/hr\n",
        "55 km/hr\n",
        "85 km/hr\n",
        "Correct Answer\n",
        "Solution Description\n",
        "Speed of train = Length of train/Time taken in crossing the pole  =120/6=20 m/sec = 20×18/5=72 km/hr. Hence, option a is correct."
      ],
      "metadata": {
        "id": "St-FvvPesgDI"
      },
      "execution_count": null,
      "outputs": []
    },
    {
      "cell_type": "code",
      "source": [
        "Q4\n",
        "Average speed of whole journey\n",
        "Send Feedback\n",
        "A train goes from Ballugunge to Sealdah at an average speed of 20 km/hr and comes back at an average speed of 30 km/hr. \n",
        "The average speed of the train for the whole journey is\n",
        "\n",
        "Options\n",
        "27 km/hr\n",
        "26 km/hr\n",
        "25 km/hr\n",
        "24 km/hr \n",
        "Correct Answer\n",
        "Solution Description\n",
        " Required average speed = 2S1S2/(S1+S2)=2×30×20/(30+20)=24 km/hr\n",
        "\t\tHence, option d is correct."
      ],
      "metadata": {
        "id": "6POo89wHsgK4"
      },
      "execution_count": null,
      "outputs": []
    },
    {
      "cell_type": "code",
      "source": [
        "Q5\n",
        "Time To Cross Each Other\n",
        "Send Feedback\n",
        "Two trains 108m and 112m in length are running towards each other on the parallel lines at a speed of 45 km/hr and 54 km/hr respectively. \n",
        "To cross each other after they meet, it will take\n",
        "\n",
        "Options\n",
        "12 sec\n",
        "9 sec\n",
        "8 sec \n",
        "10 sec\n",
        "Correct Answer\n",
        "Solution Description\n",
        "Relative speed = 45 + 54 = 99 km/hr= 99×5/18 m/sec or 55/2 m/sec\n",
        "∴ Required time = ((108+112)/(55/2))=(220×2)/55=8 seconds. Hence, option(c) is correct."
      ],
      "metadata": {
        "id": "2-c59K6_FfnF"
      },
      "execution_count": null,
      "outputs": []
    },
    {
      "cell_type": "code",
      "source": [
        "Q6\n",
        "Speed Of Faster Train\n",
        "Send Feedback\n",
        "Two trains, each 100 m long, moving in opposite directions, cross each other in 8 seconds. \n",
        "If one is moving twice as fast the other, then the speed of the faster train is:\n",
        "\n",
        "Options\n",
        "50 km/hr\n",
        "55 km/hr\n",
        "60 km/hr \n",
        "65 km/hr\n",
        "Correct Answer\n",
        "Solution Description\n",
        "Let the speed of the slower train be x m/sec .\n",
        "\tThen, speed of the faster train be 2x m/sec .\n",
        "\tRelative speed of both Trains = (x + 2x) m/sec = 3x m/sec .\n",
        "\tNow according to the question:\n",
        "\t(100+100)/8=3x⇔24x=200⇔x=25/3 m/s\n",
        "\tSo, speed of the faster train = 2×25/3 m/sec or(50/3*18/5) km/hr = 60 km/hr. Hence, option c is correct."
      ],
      "metadata": {
        "id": "ZXNBHtDVFft-"
      },
      "execution_count": null,
      "outputs": []
    },
    {
      "cell_type": "code",
      "source": [
        "Q7\n",
        "Original Speed Of Train\n",
        "Send Feedback\n",
        "A train travels at a certain average speed for distance of 63 km and then travels a distance of 72 km at \n",
        "an average speed of 6 km/hr more than its original speed. If it takes 3 hours to complete the total journey, \n",
        "what is the original speed of the train in km/hr.?\n",
        "\n",
        "Options\n",
        "24\n",
        "33\n",
        "42 \n",
        "66\n",
        "Correct Answer\n",
        "Solution Description\n",
        "The following equation can be formed from the equation,\n",
        "\t63/s + 72/(s+6) =3\n",
        "\tSolve the equation to get,\n",
        "\ts = 42 km/hr. Hence, option c is correct. "
      ],
      "metadata": {
        "id": "jnRM9Us6Ffyh"
      },
      "execution_count": null,
      "outputs": []
    },
    {
      "cell_type": "code",
      "source": [
        "Q8\n",
        "Distance Between Two Points\n",
        "Send Feedback\n",
        "A boat moves with a speed of 5 kmph in still water. When the river flows at 1kmph, \n",
        "the boat takes 80 minutes to go from a point A to B and come back. What is the distance between the two points?\n",
        "\n",
        "Options\n",
        "3 km\n",
        "2.4 km\n",
        "3.2 km \n",
        "2.8 km\n",
        "Correct Answer\n",
        "Solution Description\n",
        "As the distance is constant here, so the speed is inversely proportional to the time taken. \n",
        "Downstream speed = (5+1) kmph = 6 kmph\n",
        "Upstream speed = (5 – 1) kmph = 4 kmph\n",
        "Ratio of Downstream speed: Upstream speed = 6:4 \n",
        "So, the time taken in Downstream journey: Upstream journey = 4:6\n",
        "So, the time taken in Downstream journey = 4/10 × 80 = 32 minutes\n",
        "So, the distance = 32/60 × 6 = 3.2 kms. Hence, option c is correct."
      ],
      "metadata": {
        "id": "O3miGISjQOoG"
      },
      "execution_count": null,
      "outputs": []
    },
    {
      "cell_type": "code",
      "source": [
        "Q9\n",
        "How Far Is The Place?\n",
        "Send Feedback\n",
        "Arjun can swim at 10kmph in still water. If the velocity of water is 4kmph and it takes him 10 hours to swim to a place and come back, how far is the place?\n",
        "\n",
        "Options\n",
        "24 km\n",
        "32 km\n",
        "42 km \n",
        "48 km\n",
        "Correct Answer\n",
        "Solution Description\n",
        "Let the place is D km away from the original position of Arjun. According to the question: \n",
        "((D/(10+4))+(D/(10-4))=10  OR D/14+D/6=10\n",
        "Now by putting the options in the above equation or by solving the above equation we get D= 42 km. Hence, option c is correct."
      ],
      "metadata": {
        "id": "9xVWZcGaQO2Q"
      },
      "execution_count": null,
      "outputs": []
    },
    {
      "cell_type": "code",
      "source": [
        "Q10\n",
        "Speed Of Current\n",
        "Send Feedback\n",
        "A boat goes 6 km in one hour in still water, but takes thrice as much time in going the same distance against the current. The speed of current (in kmph) is:\n",
        "\n",
        "Options\n",
        "2\n",
        "3\n",
        "4 \n",
        "5\n",
        "Correct Answer\n",
        "Solution Description\n",
        "Speed of boat in still water =  6 km / hour\n",
        "\n",
        "Let the distance = x km\n",
        "\n",
        "Time taken = x/6 hrs\n",
        "\n",
        "Time is going the same distance against the current  = 3x/6=x/2 hrs\n",
        "\n",
        "Let the speed of the current  = y km/hr\n",
        "\n",
        "Speed against the current = 6−y km/hr\n",
        "\n",
        "Time taken for distance x= x/( 6−y) hrs.\n",
        "\n",
        "hence   x/2=x/( 6−y)\n",
        "\n",
        "so, ( 6−y) = 2\n",
        "\n",
        "and  y= 4 km/hr\n",
        "\n",
        "Hence Speed pf the current  = y km/hr =4 km/hr"
      ],
      "metadata": {
        "id": "hyorEJR-QPAe"
      },
      "execution_count": null,
      "outputs": []
    },
    {
      "cell_type": "code",
      "source": [
        "Q11\n",
        "Coincide Each Other\n",
        "Send Feedback\n",
        "At what time between 2 and 3 o'clock will the hands of a clock coincide each other?\n",
        "\n",
        "Options\n",
        "10 minutes 120/11 seconds\n",
        "10 minutes 600/11 seconds \n",
        "9 minutes 20/11 seconds\n",
        "None of These\n",
        "Correct Answer\n",
        "Solution Description\n",
        "if 3600 is equivalent to 60 km.\n",
        "Speed of the minute hand= 60 kmph\n",
        "Speed of the hour hand= 5 kmph.\n",
        "Initial distance between minute and hour hand= 10 km.\n",
        "Final distance between minute and hour hand= 0 km.\n",
        "Relative speed of minute and hour hand= 55 kmph\n",
        "Required time= 10/55hours or 600/55 minutes or 10 minutes 600/11 seconds.\n",
        "Hence both hands coincide each other after 10 minutes 600/11 seconds. Hence, option b is correct."
      ],
      "metadata": {
        "id": "16u8yY6WQPKr"
      },
      "execution_count": null,
      "outputs": []
    },
    {
      "cell_type": "code",
      "source": [
        "Q12\n",
        "Form An Angle\n",
        "Send Feedback\n",
        "At what time between 2 and 3 o'clock will the hands of a clock form an angle of 900 from each other?\n",
        "\n",
        "Options\n",
        "2:27:81.81\n",
        "2:27:16.36 \n",
        "2:27\n",
        "None Of These\n",
        "Correct Answer\n",
        "Solution Description\n",
        " Initial distance between minute and hour hand= 10 km.\n",
        "Final distance between minute and hour hand= 15 km.\n",
        "Relative speed of minute and hour hand= 55 kmph\n",
        "Required time= (15+10)/55=25/55hours or (25*60)/55 minutes or 27 minutes 16.36 seconds. Hence, option b is correct."
      ],
      "metadata": {
        "id": "7DhTQTKuQPUZ"
      },
      "execution_count": null,
      "outputs": []
    },
    {
      "cell_type": "code",
      "source": [
        "Q13\n",
        "Number Of Right Angle\n",
        "Send Feedback\n",
        "Find the number of right angle formed by a clock in a day?\n",
        "\n",
        "Options\n",
        "48\n",
        "44 \n",
        "23\n",
        "24\n",
        "Correct Answer\n",
        "Solution Description\n",
        "A clock makes 2 right angles between any 2 hours. thus, for instance there are 2 right angles formed between 12 and 1 or between 1 and 2 and so on. \n",
        "Therefore clock makes 4 right angles in two hours time period. But this statement is not true for 2-4 and for 8-10, \n",
        "because with in this interval there are not 4 but 3 right angles. \n",
        "This happen because second right angle between 2 and 3 and 1st right angle between 3-4 are same. \n",
        "Similarly second right angle between 8-9 and first right angle between 9-10 are same.\n",
        "Hence there are total 48- 4= 44 right angles formed by the clock in a 24 hours period. Hence, option b is correct."
      ],
      "metadata": {
        "id": "PkmsMyBkQPeY"
      },
      "execution_count": null,
      "outputs": []
    },
    {
      "cell_type": "code",
      "source": [
        "Q14\n",
        "Ratio Of Speeds\n",
        "Send Feedback\n",
        "In a 100 m race Aman wins over Bharat by 8 m. or by 1 s. Bharat can give a start of 10m to Chiraag in 100 m race. \n",
        "Now answer the following questions: Find the ratio of speeds of Aman, Bharat, Chirag.\n",
        "\n",
        "\n",
        "Options\n",
        "1000:900:828\n",
        "1000:920:828 \n",
        "1000:920:818\n",
        "None Of These\n",
        "Correct Answer\n",
        "Solution Description\n",
        "Ratio of speeds of Aman and Bharat = 100:100-8=100:92\n",
        "\tRatio of speeds of Bharat and Chirag = 100:100-10=100:90\n",
        "\tSo ratio of speeds Anuj, Bharat, Chirag =1000:920:828\n",
        "\tHence, option b is correct."
      ],
      "metadata": {
        "id": "TY6SWMIAQPnO"
      },
      "execution_count": null,
      "outputs": []
    },
    {
      "cell_type": "code",
      "source": [
        "Q15\n",
        "By how much time?\n",
        "Send Feedback\n",
        "In a 100 m race Aman wins over Bharat by 8 m. or by 1 s. Bharat can give a start of 10m to Chiraag in 100 m race. Now answer the following questions:\n",
        "By how much time Aman will win over Chirag in a 1 km race.\n",
        "\n",
        "Options\n",
        "20.5s\n",
        "21.5s \n",
        "22s\n",
        "None Of These\n",
        "Correct Answer\n",
        "Solution Description\n",
        "Ratio of speeds Anuj, Chirag =1000:828\n",
        "\tSo in a 1 km race Anuj will win by 172 m.  speed of Aman = 81=8m/s\n",
        "\tSo Aman will win over Chirag by 1728=21.5 s. Hence, option b is correct."
      ],
      "metadata": {
        "id": "N-7-jY2bQPwG"
      },
      "execution_count": null,
      "outputs": []
    },
    {
      "cell_type": "code",
      "source": [
        "Q16\n",
        "Length Of Race Track\n",
        "Send Feedback\n",
        "If the ratio of speeds of A and B is 3: 5 and A loses the race by 50 m, then what is the length of the race track?\n",
        "\n",
        "Options\n",
        "100m\n",
        "125m \n",
        "150m\n",
        "175m\n",
        "Correct Answer\n",
        "Solution Description\n",
        "In a 5 m race B will win the race by 2 m. (Ratio of speeds of A and B is 3: 5)\n",
        "So if B will win the race by 50 m then the length of race track = 50×5/2=125 m\n",
        "Hence, option b is correct."
      ],
      "metadata": {
        "id": "8Bgf404UQP5l"
      },
      "execution_count": null,
      "outputs": []
    },
    {
      "cell_type": "code",
      "source": [
        "Q17\n",
        "Length Of Track\n",
        "Send Feedback\n",
        "The ratio of time taken by A and B to run a certain distance is 1: 3 and A wins the race by 100 m then the length of race track is:\n",
        "\n",
        "Options\n",
        "100m\n",
        "125m\n",
        "150m \n",
        "175m\n",
        "Correct Answer\n",
        "Solution Description\n",
        "Ratio of speed of A and B is 3:1.\n",
        "\tSo in a 3m race A wins by 2 m. so when A wins by 100m then length of the race track = \t100×3/2=150 m. Hence, option c is correct."
      ],
      "metadata": {
        "id": "zoc5ZsNvQQCs"
      },
      "execution_count": null,
      "outputs": []
    }
  ]
}