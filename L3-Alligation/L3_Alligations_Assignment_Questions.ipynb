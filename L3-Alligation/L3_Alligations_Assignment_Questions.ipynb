{
  "nbformat": 4,
  "nbformat_minor": 0,
  "metadata": {
    "colab": {
      "name": "L3-Alligations_Assignment_Questions.ipynb",
      "provenance": []
    },
    "kernelspec": {
      "name": "python3",
      "display_name": "Python 3"
    },
    "language_info": {
      "name": "python"
    }
  },
  "cells": [
    {
      "cell_type": "code",
      "source": [
        "Q1\n",
        "Darjeeling And Assam Tea\n",
        "Send Feedback\n",
        "The ratio in which the Darjeeling tea at Rs. 32per kg is mixed with the Assam tea at Rs. 25 per kg \n",
        "so as to gain 20% by selling the mixture at Rs.32.40 per kg is\n",
        "\n",
        "\n",
        "Options\n",
        "4:5\n",
        "2:5 \n",
        "5:2\n",
        "2:3\n",
        "Correct Answer : 2 :5 "
      ],
      "metadata": {
        "id": "2tLb5PGOsZCk"
      },
      "execution_count": null,
      "outputs": []
    },
    {
      "cell_type": "code",
      "source": [
        "Q2\n",
        "Varieties of Rice\n",
        "Send Feedback\n",
        "In what ratio must a merchant mix two varieties of rice costing Rs. 15 and Rs.20 per kg respectively \n",
        "so as to get a mixture worth Rs. 16.50 per kg?\n",
        "\n",
        "Options\n",
        "3:5\n",
        "5:3\n",
        "7:3 \n",
        "7:6\n",
        "Correct Answer : 7 : 3"
      ],
      "metadata": {
        "id": "zPk_Naffsf6x"
      },
      "execution_count": null,
      "outputs": []
    },
    {
      "cell_type": "code",
      "source": [
        "Q3\n",
        "Petrol And Water\n",
        "Send Feedback\n",
        "40litres of a mixture of petrol and water contains 10% of water. \n",
        "The water to be added, to make the water content 20% in the new mixture is:\n",
        "\n",
        "Options\n",
        "4 litres\n",
        "6 litres\n",
        "5.5 litres\n",
        "5 litres \n",
        "Correct Answer: 5 litres"
      ],
      "metadata": {
        "id": "St-FvvPesgDI"
      },
      "execution_count": null,
      "outputs": []
    },
    {
      "cell_type": "code",
      "source": [
        "Q4\n",
        "Type1 and Type 2 Rice\n",
        "Send Feedback\n",
        "The cost of Type 1 rice is Rs. 15 per kg and Type 2 rice is Rs. 20 per kg. \n",
        "If both Type 1 and Type 2 are mixed in the ratio of 1: 4, then the price per kg of the mixed variety of rice is:\n",
        "\n",
        "Options\n",
        "18\n",
        "19 \n",
        "23\n",
        "61\n",
        "Correct Answer : 19"
      ],
      "metadata": {
        "id": "6POo89wHsgK4"
      },
      "execution_count": null,
      "outputs": []
    },
    {
      "cell_type": "code",
      "source": [
        "Q5\n",
        "Merchant And Sugar\n",
        "Send Feedback\n",
        "A merchant has 1000 kg of sugar, part of which he sells at 8% profit and the rest at 16% profit. \n",
        "He gains 14% on the whole. The quantity sold at 16% profit is:\n",
        "\n",
        "Options\n",
        "200\n",
        "400\n",
        "750 \n",
        "920\n",
        "Correct Answer : 750"
      ],
      "metadata": {
        "id": "Fwkpilc9sgOd"
      },
      "execution_count": null,
      "outputs": []
    }
  ]
}