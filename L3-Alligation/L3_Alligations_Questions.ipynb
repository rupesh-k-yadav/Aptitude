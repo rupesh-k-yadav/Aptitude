{
  "nbformat": 4,
  "nbformat_minor": 0,
  "metadata": {
    "colab": {
      "name": "L3-Alligations_Questions.ipynb",
      "provenance": []
    },
    "kernelspec": {
      "name": "python3",
      "display_name": "Python 3"
    },
    "language_info": {
      "name": "python"
    }
  },
  "cells": [
    {
      "cell_type": "code",
      "source": [
        "Q1\n",
        "Man And Rice\n",
        "Send Feedback\n",
        "The ratio in which a man must mix rice at 10.20 per kg and 14.40 per kg \n",
        "so as to make a mixture worth 12.60 per kg, is\n",
        "\n",
        "Options\n",
        "4:3\n",
        "2:5\n",
        "3:4 \n",
        "None Of These\n",
        "Correct Answer:  3:4"
      ],
      "metadata": {
        "id": "2tLb5PGOsZCk"
      },
      "execution_count": null,
      "outputs": []
    },
    {
      "cell_type": "code",
      "source": [
        "Q2\n",
        "Sugar And Salt\n",
        "Send Feedback\n",
        "If 10 kg of sugar costing Rs.15/kg and 20 kg of salt costing Rs.10/kg are mixed, \n",
        "find the average cost of the mixture Rs. per kilogram.\n",
        "\n",
        "Options\n",
        "11.33\n",
        "11.67 \n",
        "12.33\n",
        "12.67\n",
        "Correct Answer: 11.67"
      ],
      "metadata": {
        "id": "zPk_Naffsf6x"
      },
      "execution_count": null,
      "outputs": []
    },
    {
      "cell_type": "code",
      "source": [
        "Q3\n",
        "Tea And Mixture\n",
        "Send Feedback\n",
        "In what ratio should two qualities of tea having the rates of Rs. 40 per kg and Rs. 30 per kg be mixed\n",
        "in order to get a mixture that would have a rate of Rs 35 per kg?\n",
        "\n",
        "Options\n",
        "1:1 \n",
        "1:2\n",
        "1:3\n",
        "3:1\n",
        "Correct Answer : 1:1"
      ],
      "metadata": {
        "id": "St-FvvPesgDI"
      },
      "execution_count": null,
      "outputs": []
    },
    {
      "cell_type": "code",
      "source": [
        "Q4\n",
        "Table And Chair\n",
        "Send Feedback\n",
        "A man purchased a table and a chair for Rs.2000. \n",
        "He sold the table at a profit of 20% and the chair at a profit of 40%. \n",
        "In this way, his total profit was 25%. \n",
        "Find the cost price (in Rs.) of the table.\n",
        "\n",
        "Options\n",
        "1500 \n",
        "900\n",
        "800\n",
        "1000\n",
        "Correct Answer : 1500"
      ],
      "metadata": {
        "id": "6POo89wHsgK4"
      },
      "execution_count": null,
      "outputs": []
    },
    {
      "cell_type": "code",
      "source": [
        "Q5\n",
        "Milk And Mixture\n",
        "Send Feedback\n",
        "Two types of milk having the rates of Rs.8/kg and Rs.10/kg respectively are mixed in order to produce a mixture having the rate of Rs.9.20/kg. \n",
        "What should be the amount of the second type of milk if the amount of the first type of milk in the mixture is 20 kg?\n",
        "\n",
        "Options\n",
        "20 kg\n",
        "25 kg\n",
        "30 kg \n",
        "40 kg\n",
        "Correct Answer: 30kg"
      ],
      "metadata": {
        "id": "Fwkpilc9sgOd"
      },
      "execution_count": null,
      "outputs": []
    },
    {
      "cell_type": "code",
      "source": [
        "Q6\n",
        "Ashok And Grains\n",
        "Send Feedback\n",
        "Ashok purchased two qualities of grains at the rate of Rs. 100 per quintal and Rs. 160 per quintal. In 50 quintals of the second quality, \n",
        "how much pulse of the first quality should be mixed so that by selling the resulting mixture at Rs. 195 per quintal, he gains a profit of 30%?\n",
        "\n",
        "Options\n",
        "10 quintals \n",
        "14 quintals\n",
        "20 quintals\n",
        "None of these\n",
        "Correct Answer : 10 quintals\n"
      ],
      "metadata": {
        "id": "VKYbu707sgR5"
      },
      "execution_count": null,
      "outputs": []
    },
    {
      "cell_type": "code",
      "source": [
        "Q7\n",
        "Milk And Water\n",
        "Send Feedback\n",
        "There are two mixtures of milk and water, the quantity of milk in them being 20% and 80% of the mixture.\n",
        "If 2 liters of the first are mixed with three liters of the second, \n",
        "what will be the ratio of milk to water in the new mixture?\n",
        "\n",
        "Options\n",
        "11:9\n",
        "11:1\n",
        "19:11\n",
        "14:11 \n",
        "Correct Answer : 14:11"
      ],
      "metadata": {
        "id": "RRRGthzSspYw"
      },
      "execution_count": null,
      "outputs": []
    }
  ]
}