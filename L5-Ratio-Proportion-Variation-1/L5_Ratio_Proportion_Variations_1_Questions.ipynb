{
  "nbformat": 4,
  "nbformat_minor": 0,
  "metadata": {
    "colab": {
      "name": "L5-Ratio-Proportion-Variations-1_Questions.ipynb",
      "provenance": []
    },
    "kernelspec": {
      "name": "python3",
      "display_name": "Python 3"
    },
    "language_info": {
      "name": "python"
    }
  },
  "cells": [
    {
      "cell_type": "code",
      "source": [
        "Q1\n",
        "Find the ratio?\n",
        "Send Feedback\n",
        "120/180= ?\n",
        "\n",
        "Options\n",
        "2/3 \n",
        "3/4\n",
        "4/5\n",
        "None Of These\n",
        "Correct Answer : 2/3"
      ],
      "metadata": {
        "id": "2tLb5PGOsZCk"
      },
      "execution_count": null,
      "outputs": []
    },
    {
      "cell_type": "code",
      "source": [
        "Q2\n",
        "Find the value?\n",
        "Send Feedback\n",
        "What is the value of 2: 5?\n",
        "\n",
        "Options\n",
        "0.33\n",
        "0.4 \n",
        "0.67\n",
        "None Of These\n",
        "Correct Answer : 0.4"
      ],
      "metadata": {
        "id": "zPk_Naffsf6x"
      },
      "execution_count": null,
      "outputs": []
    },
    {
      "cell_type": "code",
      "source": [
        "Q3\n",
        "Value of a\n",
        "Send Feedback\n",
        "What is the value of (1+a)/3 if a= 0.5?\n",
        "\n",
        "Options\n",
        "2/3\n",
        "1/2 \n",
        "1/6\n",
        "None Of These\n",
        "Correct Answer\n",
        "Solution Description\n",
        "    (1+ a)/3= (1+0.5)/3= 1.5/3= ½"
      ],
      "metadata": {
        "id": "St-FvvPesgDI"
      },
      "execution_count": null,
      "outputs": []
    },
    {
      "cell_type": "code",
      "source": [
        "Q4\n",
        "Judge it?\n",
        "Send Feedback\n",
        "(400+2)/(800+2) is ……than 400/800.\n",
        "\n",
        "Options\n",
        "greater \n",
        "less than\n",
        "equal to\n",
        "can't be determined\n",
        "Correct Answer : greater"
      ],
      "metadata": {
        "id": "6POo89wHsgK4"
      },
      "execution_count": null,
      "outputs": []
    },
    {
      "cell_type": "code",
      "source": [
        "Q5\n",
        "Judge It Again?\n",
        "Send Feedback\n",
        "1/2 ? ((1+100)/(2+200)), what should come in place of ?\n",
        "\n",
        "Options\n",
        ">\n",
        "<\n",
        "= \n",
        "None Of These\n",
        "Correct Answer: ="
      ],
      "metadata": {
        "id": "Fwkpilc9sgOd"
      },
      "execution_count": null,
      "outputs": []
    },
    {
      "cell_type": "code",
      "source": [
        "Q6\n",
        "What is x, y and z?\n",
        "Send Feedback\n",
        "If x: y = 3 : 2 and y: z = 6: 5 then x: y: z =?\n",
        "\n",
        "Options\n",
        "9: 6 : 4\n",
        "9: 6: 5 \n",
        "3: 2: 0.5\n",
        "3: 6: 5\n",
        "Correct Answer\n",
        "Solution Description\n",
        "    x: y = 3: 2, y: z = 6: 5\n",
        "\n",
        "    x: y: z = (3*6): (2*6): (2*5) = 18: 12: 10 = 9: 6: 5"
      ],
      "metadata": {
        "id": "JIKiYzjcM3u6"
      },
      "execution_count": null,
      "outputs": []
    },
    {
      "cell_type": "code",
      "source": [
        "Q7\n",
        "Find a:c?\n",
        "Send Feedback\n",
        "If a: b = 1: 2 & b: c= 3: 4 then a: c = ?\n",
        "\n",
        "Options\n",
        "3:6\n",
        "3:4\n",
        "1:4\n",
        "3:8 \n",
        "Correct Answer\n",
        "Solution Description\n",
        "    a: b = 1: 2 & b: c= 3: 4 then a: b: c = 1×3:2×3:2×4= 3:6:8"
      ],
      "metadata": {
        "id": "d98-WcI_M30k"
      },
      "execution_count": null,
      "outputs": []
    },
    {
      "cell_type": "code",
      "source": [
        "Q8\n",
        "Find x:t?\n",
        "Send Feedback\n",
        "If x: y = 1: 2, y: z = 3: 4, z: w= 5: 6, w: t = 7: 8 then x: t = ?\n",
        "\n",
        "Options\n",
        "1: 8\n",
        "105: 336\n",
        "35: 128 \n",
        "None Of These\n",
        "Correct Answer\n",
        "Solution Description\n",
        "    If x: y = 1: 2, y: z = 3: 4, z: w= 5: 6, w: t = 7: 8\n",
        "    Then x: t = 1×3×5×7:2×4×6×8=105:384=35:128"
      ],
      "metadata": {
        "id": "3Xm7aXHuM34C"
      },
      "execution_count": null,
      "outputs": []
    },
    {
      "cell_type": "code",
      "source": [
        "Q9\n",
        "Denominations\n",
        "Send Feedback\n",
        "A boy has a few coins of denominations 50 paise, 25 paise and 10 paise in the ratio 1 : 2 : 3. \n",
        "If the total amount of the coins is Rs. 6.50, the number of 10 paise coins is\n",
        "\n",
        "Options\n",
        "5\n",
        "10\n",
        "15 \n",
        "20\n",
        "Correct Answer\n",
        "Solution Description\n",
        "Let the numbers of 50 paise, 25 paise and 10 paise are x, 2x and 3x.\n",
        "\n",
        "50x+25×2x+10×3x=650 \n",
        "\n",
        "130x=650 \n",
        "\n",
        "x=5 \n",
        "\n",
        "2x=10,3x=15 \n",
        "\n",
        "Number of 10 paise= 15. Hence, option (c) is correct. "
      ],
      "metadata": {
        "id": "ncUu1cT6M37e"
      },
      "execution_count": null,
      "outputs": []
    },
    {
      "cell_type": "code",
      "source": [
        "Q10\n",
        "Boy And Denominations\n",
        "Send Feedback\n",
        "A boy has a few coins of denominations 10 paise, 20 paise and 25 paise in the ratio 10 : 15 : 6. \n",
        "Then, the possible value of the denomination=?\n",
        "\n",
        "Options\n",
        "5\n",
        "11 \n",
        "15\n",
        "20\n",
        "Correct Answer\n",
        "Solution Description\n",
        "Let the possible number of coins be 10x, 15x and 6x.\n",
        "\n",
        "0.1×10x+0.20×15x+0.25×6x=5.5x. \n",
        "\n",
        "Option (b) is the multiple of 5.5.\n",
        "\n",
        "Hence, only option (b) is correct. "
      ],
      "metadata": {
        "id": "QLe1TgHmM3-j"
      },
      "execution_count": null,
      "outputs": []
    },
    {
      "cell_type": "code",
      "source": [
        "Q11\n",
        "Divide Among Workers\n",
        "Send Feedback\n",
        "Rs.432 is divided amongst three workers A, B and C such that 8 times A’s share is equal to 12 times B’s share which is equal to 6 times C’s share. \n",
        "How much did B get?\n",
        "\n",
        "Options\n",
        "24\n",
        "48\n",
        "192\n",
        "96 \n",
        "Correct Answer\n",
        "Solution Description\n",
        "8 times A’s share = 12 times B’s share = 6 times C’s share\n",
        "\n",
        "8a= 12b= 6c (where a, b and c are shares of A,B and C)\n",
        "\n",
        "Note that this is not the same as the ratio of their wages being 8:12:6\n",
        "\n",
        "In this case, find out the L.C.M of 8, 12 and 6 and divide the L.C.M by each of the above numbers to get the ratio of their respective shares.\n",
        "\n",
        "The L.C.M of 8, 12 and 6 is 24.\n",
        "Therefore, the ratio A:B:C:: (24/8): (24/12) : (24/6):: 3:2:4;\n",
        "\n",
        "The sum of the total wages=3x+2x+4x=432 => 9x=432 or x=48.\n",
        "\tHence B gets 2 X 48= Rs. 96"
      ],
      "metadata": {
        "id": "G8_zNu1CNqHC"
      },
      "execution_count": null,
      "outputs": []
    },
    {
      "cell_type": "code",
      "source": [
        "Q12\n",
        "Proportion-1\n",
        "Send Feedback\n",
        "If 3: 2 :: x: 26, then x= ?\n",
        "\n",
        "Options\n",
        "39 \n",
        "13\n",
        "26\n",
        "None Of These\n",
        "Correct Answer\n",
        "Solution Description\n",
        "3/2=x/26 or x= 39. Hence, option (a) is correct."
      ],
      "metadata": {
        "id": "R8P-UPZEN1mC"
      },
      "execution_count": null,
      "outputs": []
    },
    {
      "cell_type": "code",
      "source": [
        "Q13\n",
        "Find b?\n",
        "Send Feedback\n",
        "If 2: b:: b: 32, then b= ?(It should be positive)\n",
        "\n",
        "Options\n",
        "8 \n",
        "4\n",
        "16\n",
        "2\n",
        "Correct Answer\n",
        "Solution Description\n",
        "2/b=b/32 or b^2=64 or b=8. Hence, option (a) is correct."
      ],
      "metadata": {
        "id": "X709SkfPN1zd"
      },
      "execution_count": null,
      "outputs": []
    }
  ]
}