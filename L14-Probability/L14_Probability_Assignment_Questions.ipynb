{
  "nbformat": 4,
  "nbformat_minor": 0,
  "metadata": {
    "colab": {
      "name": "L14-Probability_Assignment_Questions.ipynb",
      "provenance": []
    },
    "kernelspec": {
      "name": "python3",
      "display_name": "Python 3"
    },
    "language_info": {
      "name": "python"
    }
  },
  "cells": [
    {
      "cell_type": "code",
      "source": [
        "Q1\n",
        "Probability Of Selected Person\n",
        "Send Feedback\n",
        "Out of 13 applicants for a job, there are 5 women and 8 men. \n",
        "It is desired to select 2 persons for the job. The probability that at least one of the selected persons will be a woman is:\n",
        "\n",
        "Options\n",
        "25/39 \n",
        "14/39\n",
        "5/13\n",
        "10/13\n",
        "Correct Answer: 25/39\n",
        "Solution Description\n"
      ],
      "metadata": {
        "id": "2tLb5PGOsZCk"
      },
      "execution_count": null,
      "outputs": []
    },
    {
      "cell_type": "code",
      "source": [
        "Q2\n",
        "Probability Of Good\n",
        "Send Feedback\n",
        "A bag contains 10 mangoes out of which 4 are rotten. \n",
        "Two mangoes are taken out together. If one of them is found to be good, then the probability that other is also good is:\n",
        "\n",
        "Options\n",
        "5/13 \n",
        "8/15\n",
        "5/18\n",
        "None Of These\n",
        "Correct Answer\n",
        "Solution Description\n",
        "#### We are given 4 rotten and 6 good mangoes.\n",
        "#### Let us consider 2 events A= 1st mango is good\n",
        "#### B= 2nd mango is good.\n",
        "#### P(B/A)=P(A intersection B)/P(A)\n",
        "#### P(A intersection B)= Both mangoes are good.\n",
        "#### Favorable cases= 6C2\n",
        "#### Total cases=10C2\n",
        "#### P(A intersection B)=6C2/10C2\n",
        "#### P(A)=1st good,2nd rotten +both good\n",
        "#### P(A)=(6C1*4C1)/10C2+(6C2/10C2)\n",
        "#### P(B/A)=P(A intersection B)/P(A)=(6C2/10C2)/((6C1*4C1)/10C2+(6C2/10C2))=5/13"
      ],
      "metadata": {
        "id": "zPk_Naffsf6x"
      },
      "execution_count": null,
      "outputs": []
    },
    {
      "cell_type": "code",
      "source": [
        "Q3\n",
        "Probability Of Stand\n",
        "Send Feedback\n",
        "Four boys and three girls stand in queue for an interview. The probability that they will stand in alternate position is:\n",
        "\n",
        "Options\n",
        "1/34\n",
        "1/35 \n",
        "1/17\n",
        "1/68\n",
        "Correct Answer: 1/35"
      ],
      "metadata": {
        "id": "St-FvvPesgDI"
      },
      "execution_count": null,
      "outputs": []
    },
    {
      "cell_type": "code",
      "source": [
        "Q4\n",
        "Probability Of Win In Single Trial\n",
        "Send Feedback\n",
        "A and B play a game where each is asked to select a number from 1 to 5. \n",
        "If two numbers match, both of them win a prize. The probability that they will not win a prize in a single trail is\n",
        "\n",
        "Options\n",
        "1/25\n",
        "24/25\n",
        "3/25\n",
        "None Of These \n",
        "Correct Answer: None of These"
      ],
      "metadata": {
        "id": "6POo89wHsgK4"
      },
      "execution_count": null,
      "outputs": []
    },
    {
      "cell_type": "code",
      "source": [
        "Q5\n",
        "Probability Of Rich Girl\n",
        "Send Feedback\n",
        "A class consists of 100 students; 25 of them are girls and 75 boys; 20 are rich, and the remaining poor; 40 of them love to play basketball, \n",
        "and the rest loves to play football. \n",
        "The probability of selecting a basketball lover rich girl is\n",
        "\n",
        "Options\n",
        "0.05\n",
        "0.04\n",
        "0.02 \n",
        "0.08\n",
        "Correct Answer: 0.02"
      ],
      "metadata": {
        "id": "2-c59K6_FfnF"
      },
      "execution_count": null,
      "outputs": []
    },
    {
      "cell_type": "code",
      "source": [
        "Q6\n",
        "Probability Of Same Colour\n",
        "Send Feedback\n",
        "A box contains 5 brown and 4 white socks. A man takes out two socks. The probability that they are of the same colour\n",
        "\n",
        "Options\n",
        "5/18\n",
        "1/6\n",
        "5/108\n",
        "4/9 \n",
        "Correct Answer: 4/9"
      ],
      "metadata": {
        "id": "ZXNBHtDVFft-"
      },
      "execution_count": null,
      "outputs": []
    },
    {
      "cell_type": "code",
      "source": [
        "Q7\n",
        "Probability Of Club\n",
        "Send Feedback\n",
        "There are five clubs in Lucknow. If 3 singers check into clubs in a day. \n",
        "What is the probability that each singer check into a different club?\n",
        "\n",
        "Options\n",
        "12/25 \n",
        "13/25\n",
        "12/15\n",
        "13/15\n",
        "Correct Answer: 12/25\n"
      ],
      "metadata": {
        "id": "jnRM9Us6Ffyh"
      },
      "execution_count": null,
      "outputs": []
    }
  ]
}